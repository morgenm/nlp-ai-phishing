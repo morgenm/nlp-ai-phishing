{
 "cells": [
  {
   "cell_type": "code",
   "execution_count": null,
   "id": "32cbfc53-30a1-44f1-a0a8-da90c0fd6571",
   "metadata": {},
   "outputs": [],
   "source": [
    "import mailbox\n",
    "import gensim\n",
    "from gensim.models import Word2Vec\n",
    "from gensim.parsing.preprocessing import *\n",
    "import eml_parser, json, datetime\n",
    "import email\n",
    "import pandas as pd\n",
    "import numpy as np\n",
    "import os\n",
    "import joblib\n",
    "\n",
    "# NLP with NLTK\n",
    "import nltk\n",
    "nltk.download(\"stopwords\")\n",
    "nltk.download('vader_lexicon')\n",
    "from nltk.sentiment import SentimentIntensityAnalyzer\n",
    "\n",
    "# For visualization\n",
    "from wordcloud import WordCloud\n",
    "#import pyLDAvis\n",
    "#import pyLDAvis.gensim\n",
    "\n",
    "# Sklearn\n",
    "from sklearn.ensemble import RandomForestClassifier\n",
    "from sklearn.metrics import accuracy_score, confusion_matrix, precision_score, recall_score, ConfusionMatrixDisplay\n",
    "from sklearn.model_selection import RandomizedSearchCV, train_test_split\n",
    "from sklearn.pipeline import make_pipeline\n",
    "from sklearn.preprocessing import StandardScaler, MinMaxScaler\n",
    "from sklearn.svm import SVC\n",
    "from sklearn.feature_extraction.text import TfidfVectorizer\n",
    "\n",
    "# Doc2Vec\n",
    "from gensim.models.doc2vec import Doc2Vec, TaggedDocument\n",
    "\n",
    "# Keras\n",
    "import tensorflow as tf\n",
    "from tensorflow.keras import layers"
   ]
  },
  {
   "cell_type": "markdown",
   "id": "b941ce3e-ef65-4806-a396-39b06cf91d93",
   "metadata": {
    "tags": []
   },
   "source": [
    "# Data preprocessing"
   ]
  },
  {
   "cell_type": "markdown",
   "id": "dd137f96-49a9-41b5-960d-82213827f82c",
   "metadata": {},
   "source": [
    "## Extracting the body text"
   ]
  },
  {
   "cell_type": "code",
   "execution_count": 179,
   "id": "e35c458b-f305-43b2-b0c1-99b3360a0b50",
   "metadata": {
    "tags": []
   },
   "outputs": [],
   "source": [
    "# From https://stackoverflow.com/questions/7166922/extracting-the-body-of-an-email-from-mbox-file-decoding-it-to-plain-text-regard\n",
    "\n",
    "def get_charsets(msg):\n",
    "    charsets = set({})\n",
    "    for c in msg.get_charsets():\n",
    "        if c is not None:\n",
    "            charsets.update([c])\n",
    "    return charsets\n",
    "\n",
    "def handle_error(errmsg, emailmsg,cs):\n",
    "    '''print()\n",
    "    print(errmsg)\n",
    "    print(\"This error occurred while decoding with \",cs,\" charset.\")\n",
    "    print(\"These charsets were found in the one email.\",get_charsets(emailmsg))\n",
    "    print(\"This is the subject:\",emailmsg['subject'])\n",
    "    print(\"This is the sender:\",emailmsg['From'])'''\n",
    "    pass\n",
    "\n",
    "def get_body_from_email(msg):\n",
    "    body = None\n",
    "    #Walk through the parts of the email to find the text body.    \n",
    "    if msg.is_multipart():    \n",
    "        for part in msg.walk():\n",
    "\n",
    "            # If part is multipart, walk through the subparts.            \n",
    "            if part.is_multipart(): \n",
    "\n",
    "                for subpart in part.walk():\n",
    "                    if subpart.get_content_type() == 'text/plain':\n",
    "                        # Get the subpart payload (i.e the message body)\n",
    "                        body = subpart.get_payload(decode=True) \n",
    "                        #charset = subpart.get_charset()\n",
    "\n",
    "            # Part isn't multipart so get the email body\n",
    "            elif part.get_content_type() == 'text/plain':\n",
    "                body = part.get_payload(decode=True)\n",
    "                #charset = part.get_charset()\n",
    "\n",
    "    # If this isn't a multi-part message then get the payload (i.e the message body)\n",
    "    #elif msg.get_content_type() == 'text/plain':\n",
    "        #body = msg.get_payload(decode=True) \n",
    "    \n",
    "    # Uncomment this to also include html and other formats\n",
    "    else:\n",
    "        body = msg.get_payload(decode=True) \n",
    "\n",
    "    return body"
   ]
  },
  {
   "cell_type": "markdown",
   "id": "8cca97b9-ba70-4870-9973-630afa264df1",
   "metadata": {},
   "source": [
    "### Phishing emails"
   ]
  },
  {
   "cell_type": "code",
   "execution_count": 180,
   "id": "9af2de98-71d9-4117-8749-88c86ae88483",
   "metadata": {},
   "outputs": [
    {
     "name": "stdout",
     "output_type": "stream",
     "text": [
      "4572 2754\n"
     ]
    }
   ],
   "source": [
    "phishingBoxFilenames = [\"../datasets/monkey/phishing3.mbox\",\"../datasets/monkey/phishing2.mbox\", \"../datasets/monkey/phishing1.mbox\", \"../datasets/monkey/phishing0.mbox\",\n",
    "                        \"../datasets/monkey/phishing2022.mbox\", \"../datasets/monkey/phishing2021.mbox\", \"../datasets/monkey/phishing2020.mbox\", \"../datasets/monkey/phishing2019.mbox\", \"../datasets/monkey/phishing2018.mbox\",\n",
    "                       \"../datasets/monkey/phishing2017.mbox\", \"../datasets/monkey/phishing2016.mbox\", \"../datasets/monkey/phishing2015.mbox\"]\n",
    "phishingBoxes = [mailbox.mbox(f) for f in phishingBoxFilenames]\n",
    "phishingMessages = [m[1] for phishingBox in phishingBoxes for m in phishingBox.items()]\n",
    "\n",
    "phishingMessageBodies = []\n",
    "for p in phishingMessages:\n",
    "    body = get_body_from_email(p)\n",
    "    if body is not None and len(body) > 0:\n",
    "        phishingMessageBodies.append(body)\n",
    "        \n",
    "print(len(phishingMessages), len(phishingMessageBodies))"
   ]
  },
  {
   "cell_type": "code",
   "execution_count": null,
   "id": "7f1c1cd0-a3e6-4a01-ad1a-55442c846735",
   "metadata": {
    "editable": true,
    "slideshow": {
     "slide_type": ""
    },
    "tags": []
   },
   "outputs": [],
   "source": [
    "# Clair Fraud Email Database\n",
    "added = []\n",
    "with open(\"../datasets/clair/fraudulent_emails.txt\", 'r', errors=\"ignore\") as f:\n",
    "    body = \"\"\n",
    "    inBody = False\n",
    "    for line in f:\n",
    "        if line.startswith(\"Status: O\"):\n",
    "            inBody = True\n",
    "        \n",
    "        elif line.startswith(\"From r\") and len(body) > 0:\n",
    "            inBody = False\n",
    "            added.append(body)\n",
    "            body = \"\"\n",
    "\n",
    "        elif inBody:\n",
    "            body += line\n",
    "\n",
    "phishingMessageBodies = list(set(phishingMessageBodies + [a for a in added if len(a) > 0]))\n",
    "print(len(phishingMessageBodies))\n",
    "    "
   ]
  },
  {
   "cell_type": "code",
   "execution_count": 182,
   "id": "51e707b5-f986-4cf1-b900-75e46dd3bdd1",
   "metadata": {
    "tags": []
   },
   "outputs": [
    {
     "name": "stderr",
     "output_type": "stream",
     "text": [
      "Header field \"message-id\" is in an invalid format and cannot be fixed, it will be dropped.\n",
      "Header field \"message-id\" is in an invalid format and cannot be fixed, it will be dropped.\n",
      "Header field \"message-id\" is in an invalid format and cannot be fixed, it will be dropped.\n",
      "Header field \"message-id\" is in an invalid format and cannot be fixed, it will be dropped.\n",
      "Header field \"message-id\" is in an invalid format and cannot be fixed, it will be dropped.\n",
      "Header field \"message-id\" is in an invalid format and cannot be fixed, it will be dropped.\n",
      "Header field \"message-id\" is in an invalid format and cannot be fixed, it will be dropped.\n",
      "Header field \"message-id\" is in an invalid format and cannot be fixed, it will be dropped.\n",
      "Header field \"message-id\" is in an invalid format and cannot be fixed, it will be dropped.\n",
      "Header field \"message-id\" is in an invalid format and cannot be fixed, it will be dropped.\n",
      "Header field \"message-id\" is in an invalid format and cannot be fixed, it will be dropped.\n",
      "Header field \"message-id\" is in an invalid format and cannot be fixed, it will be dropped.\n",
      "Header field \"message-id\" is in an invalid format and cannot be fixed, it will be dropped.\n",
      "Header field \"message-id\" is in an invalid format and cannot be fixed, it will be dropped.\n",
      "Header field \"message-id\" is in an invalid format and cannot be fixed, it will be dropped.\n",
      "Header field \"message-id\" is in an invalid format and cannot be fixed, it will be dropped.\n",
      "Header field \"message-id\" is in an invalid format and cannot be fixed, it will be dropped.\n",
      "Header field \"message-id\" is in an invalid format and cannot be fixed, it will be dropped.\n",
      "Header field \"message-id\" is in an invalid format and cannot be fixed, it will be dropped.\n",
      "Header field \"message-id\" is in an invalid format and cannot be fixed, it will be dropped.\n",
      "Header field \"message-id\" is in an invalid format and cannot be fixed, it will be dropped.\n",
      "Header field \"message-id\" is in an invalid format and cannot be fixed, it will be dropped.\n",
      "Header field \"message-id\" is in an invalid format and cannot be fixed, it will be dropped.\n",
      "Header field \"message-id\" is in an invalid format and cannot be fixed, it will be dropped.\n",
      "Header field \"message-id\" is in an invalid format and cannot be fixed, it will be dropped.\n",
      "Header field \"message-id\" is in an invalid format and cannot be fixed, it will be dropped.\n",
      "Header field \"message-id\" is in an invalid format and cannot be fixed, it will be dropped.\n",
      "Header field \"message-id\" is in an invalid format and cannot be fixed, it will be dropped.\n",
      "Header field \"message-id\" is in an invalid format and cannot be fixed, it will be dropped.\n",
      "Header field \"message-id\" is in an invalid format and cannot be fixed, it will be dropped.\n",
      "FROM header parsing failed.\n",
      "Header field \"message-id\" is in an invalid format and cannot be fixed, it will be dropped.\n",
      "Header field \"message-id\" is in an invalid format and cannot be fixed, it will be dropped.\n",
      "Header field \"message-id\" is in an invalid format and cannot be fixed, it will be dropped.\n",
      "Header field \"message-id\" is in an invalid format and cannot be fixed, it will be dropped.\n",
      "Header field \"message-id\" is in an invalid format and cannot be fixed, it will be dropped.\n",
      "Header field \"message-id\" is in an invalid format and cannot be fixed, it will be dropped.\n",
      "Header field \"message-id\" is in an invalid format and cannot be fixed, it will be dropped.\n",
      "Header field \"message-id\" is in an invalid format and cannot be fixed, it will be dropped.\n",
      "Header field \"message-id\" is in an invalid format and cannot be fixed, it will be dropped.\n",
      "Header field \"message-id\" is in an invalid format and cannot be fixed, it will be dropped.\n",
      "Header field \"message-id\" is in an invalid format and cannot be fixed, it will be dropped.\n",
      "Header field \"message-id\" is in an invalid format and cannot be fixed, it will be dropped.\n",
      "Header field \"message-id\" is in an invalid format and cannot be fixed, it will be dropped.\n",
      "Header field \"message-id\" is in an invalid format and cannot be fixed, it will be dropped.\n",
      "Header field \"message-id\" is in an invalid format and cannot be fixed, it will be dropped.\n",
      "Header field \"message-id\" is in an invalid format and cannot be fixed, it will be dropped.\n",
      "Header field \"message-id\" is in an invalid format and cannot be fixed, it will be dropped.\n",
      "Header field \"message-id\" is in an invalid format and cannot be fixed, it will be dropped.\n",
      "Header field \"message-id\" is in an invalid format and cannot be fixed, it will be dropped.\n",
      "Header field \"message-id\" is in an invalid format and cannot be fixed, it will be dropped.\n",
      "Header field \"message-id\" is in an invalid format and cannot be fixed, it will be dropped.\n",
      "FROM header parsing failed.\n",
      "Header field \"message-id\" is in an invalid format and cannot be fixed, it will be dropped.\n",
      "Header field \"message-id\" is in an invalid format and cannot be fixed, it will be dropped.\n",
      "FROM header parsing failed.\n",
      "Header field \"message-id\" is in an invalid format and cannot be fixed, it will be dropped.\n",
      "Header field \"message-id\" is in an invalid format and cannot be fixed, it will be dropped.\n",
      "Header field \"message-id\" is in an invalid format and cannot be fixed, it will be dropped.\n"
     ]
    },
    {
     "name": "stdout",
     "output_type": "stream",
     "text": [
      "4821\n"
     ]
    }
   ],
   "source": [
    "# SpamAssassin Spam (not exactly phishing, but NVIDIA article used it as phishing so attempting it)\n",
    "ep = eml_parser.EmlParser(include_raw_body=True)\n",
    "\n",
    "spamDir = \"../datasets/spamassassin/spam_2/spam_2/\"\n",
    "spamFilenames = [os.path.join(spamDir, f) for f in os.listdir(spamDir)]\n",
    "\n",
    "added = []\n",
    "for filename in spamFilenames:\n",
    "    with open(filename, \"rb\") as f:\n",
    "        b = f.read()\n",
    "    \n",
    "    m = ep.decode_email_bytes(b)\n",
    "    if len(m[\"body\"]) >= 1:\n",
    "        added.append(m[\"body\"][0][\"content\"])\n",
    "    \n",
    "phishingMessageBodies = list(set(phishingMessageBodies + added))\n",
    "print(len(phishingMessageBodies))"
   ]
  },
  {
   "cell_type": "markdown",
   "id": "50043354-06cf-4911-a0f7-2ff6ede42f0c",
   "metadata": {},
   "source": [
    "### Benign emails"
   ]
  },
  {
   "cell_type": "code",
   "execution_count": 183,
   "id": "626c5b14-55fd-4e7f-93a9-f4a2e053df9c",
   "metadata": {},
   "outputs": [
    {
     "name": "stderr",
     "output_type": "stream",
     "text": [
      "Header field \"message-id\" is in an invalid format and cannot be fixed, it will be dropped.\n",
      "Header field \"message-id\" is in an invalid format and cannot be fixed, it will be dropped.\n",
      "Header field \"message-id\" is in an invalid format and cannot be fixed, it will be dropped.\n",
      "Header field \"message-id\" is in an invalid format and cannot be fixed, it will be dropped.\n",
      "Header field \"message-id\" is in an invalid format and cannot be fixed, it will be dropped.\n",
      "Header field \"message-id\" is in an invalid format and cannot be fixed, it will be dropped.\n",
      "Header field \"message-id\" is in an invalid format and cannot be fixed, it will be dropped.\n",
      "Header field \"message-id\" is in an invalid format and cannot be fixed, it will be dropped.\n",
      "Header field \"message-id\" is in an invalid format and cannot be fixed, it will be dropped.\n",
      "Header field \"message-id\" is in an invalid format and cannot be fixed, it will be dropped.\n",
      "Header field \"message-id\" is in an invalid format and cannot be fixed, it will be dropped.\n",
      "Header field \"message-id\" is in an invalid format and cannot be fixed, it will be dropped.\n",
      "Header field \"message-id\" is in an invalid format and cannot be fixed, it will be dropped.\n",
      "Header field \"message-id\" is in an invalid format and cannot be fixed, it will be dropped.\n",
      "Header field \"message-id\" is in an invalid format and cannot be fixed, it will be dropped.\n",
      "Header field \"message-id\" is in an invalid format and cannot be fixed, it will be dropped.\n",
      "Header field \"message-id\" is in an invalid format and cannot be fixed, it will be dropped.\n",
      "Header field \"message-id\" is in an invalid format and cannot be fixed, it will be dropped.\n",
      "Header field \"message-id\" is in an invalid format and cannot be fixed, it will be dropped.\n",
      "Header field \"message-id\" is in an invalid format and cannot be fixed, it will be dropped.\n",
      "Header field \"message-id\" is in an invalid format and cannot be fixed, it will be dropped.\n",
      "Header field \"message-id\" is in an invalid format and cannot be fixed, it will be dropped.\n",
      "Header field \"message-id\" is in an invalid format and cannot be fixed, it will be dropped.\n",
      "Header field \"message-id\" is in an invalid format and cannot be fixed, it will be dropped.\n",
      "Header field \"message-id\" is in an invalid format and cannot be fixed, it will be dropped.\n",
      "Header field \"message-id\" is in an invalid format and cannot be fixed, it will be dropped.\n",
      "Header field \"message-id\" is in an invalid format and cannot be fixed, it will be dropped.\n",
      "Header field \"message-id\" is in an invalid format and cannot be fixed, it will be dropped.\n",
      "Header field \"message-id\" is in an invalid format and cannot be fixed, it will be dropped.\n",
      "Header field \"message-id\" is in an invalid format and cannot be fixed, it will be dropped.\n",
      "Header field \"message-id\" is in an invalid format and cannot be fixed, it will be dropped.\n",
      "Header field \"message-id\" is in an invalid format and cannot be fixed, it will be dropped.\n",
      "Header field \"message-id\" is in an invalid format and cannot be fixed, it will be dropped.\n",
      "Header field \"message-id\" is in an invalid format and cannot be fixed, it will be dropped.\n",
      "Header field \"message-id\" is in an invalid format and cannot be fixed, it will be dropped.\n",
      "Header field \"message-id\" is in an invalid format and cannot be fixed, it will be dropped.\n",
      "Header field \"message-id\" is in an invalid format and cannot be fixed, it will be dropped.\n",
      "Header field \"message-id\" is in an invalid format and cannot be fixed, it will be dropped.\n",
      "Header field \"message-id\" is in an invalid format and cannot be fixed, it will be dropped.\n",
      "Header field \"message-id\" is in an invalid format and cannot be fixed, it will be dropped.\n",
      "Header field \"message-id\" is in an invalid format and cannot be fixed, it will be dropped.\n",
      "Header field \"message-id\" is in an invalid format and cannot be fixed, it will be dropped.\n",
      "Header field \"message-id\" is in an invalid format and cannot be fixed, it will be dropped.\n",
      "Header field \"message-id\" is in an invalid format and cannot be fixed, it will be dropped.\n",
      "Header field \"message-id\" is in an invalid format and cannot be fixed, it will be dropped.\n",
      "Header field \"message-id\" is in an invalid format and cannot be fixed, it will be dropped.\n",
      "Header field \"message-id\" is in an invalid format and cannot be fixed, it will be dropped.\n",
      "Header field \"message-id\" is in an invalid format and cannot be fixed, it will be dropped.\n",
      "Header field \"message-id\" is in an invalid format and cannot be fixed, it will be dropped.\n",
      "Header field \"message-id\" is in an invalid format and cannot be fixed, it will be dropped.\n",
      "Header field \"message-id\" is in an invalid format and cannot be fixed, it will be dropped.\n",
      "Header field \"message-id\" is in an invalid format and cannot be fixed, it will be dropped.\n",
      "Header field \"message-id\" is in an invalid format and cannot be fixed, it will be dropped.\n",
      "Header field \"message-id\" is in an invalid format and cannot be fixed, it will be dropped.\n",
      "Header field \"message-id\" is in an invalid format and cannot be fixed, it will be dropped.\n",
      "Header field \"message-id\" is in an invalid format and cannot be fixed, it will be dropped.\n",
      "Header field \"message-id\" is in an invalid format and cannot be fixed, it will be dropped.\n",
      "Header field \"message-id\" is in an invalid format and cannot be fixed, it will be dropped.\n",
      "Header field \"message-id\" is in an invalid format and cannot be fixed, it will be dropped.\n",
      "Header field \"message-id\" is in an invalid format and cannot be fixed, it will be dropped.\n",
      "Header field \"message-id\" is in an invalid format and cannot be fixed, it will be dropped.\n",
      "Header field \"message-id\" is in an invalid format and cannot be fixed, it will be dropped.\n"
     ]
    },
    {
     "name": "stdout",
     "output_type": "stream",
     "text": [
      "2801\n"
     ]
    }
   ],
   "source": [
    "ep = eml_parser.EmlParser(include_raw_body=True)\n",
    "\n",
    "easyHamDir = \"../datasets/spamassassin/easy_ham/easy_ham/\"\n",
    "hardHamDir = \"../datasets/spamassassin/hard_ham/hard_ham/\"\n",
    "hamFilenames = [os.path.join(easyHamDir, f) for f in os.listdir(easyHamDir)] + [os.path.join(hardHamDir, f) for f in os.listdir(hardHamDir)]\n",
    "\n",
    "benignMessageBodies = []\n",
    "for filename in hamFilenames:\n",
    "    with open(filename, \"rb\") as f:\n",
    "        b = f.read()\n",
    "    \n",
    "    m = ep.decode_email_bytes(b)\n",
    "    if len(m[\"body\"]) >= 1:\n",
    "        benignMessageBodies.append(m[\"body\"][0][\"content\"])\n",
    "    \n",
    "print(len(benignMessageBodies))"
   ]
  },
  {
   "cell_type": "code",
   "execution_count": 184,
   "id": "5a088389-7111-4218-b78b-603ab43f3d82",
   "metadata": {},
   "outputs": [
    {
     "name": "stdout",
     "output_type": "stream",
     "text": [
      "4323\n"
     ]
    }
   ],
   "source": [
    "# Personal, benign emails\n",
    "personalBox = mailbox.mbox(\"../datasets/personal/gmail/benign.mbox\")\n",
    "personalMessages = [m[1] for m in personalBox.items()][:len(phishingMessageBodies)//3] # limit amount added\n",
    "\n",
    "added = []\n",
    "for p in personalMessages:\n",
    "    body = get_body_from_email(p)\n",
    "    if body is not None and len(body) > 0:\n",
    "        added.append(body)\n",
    "\n",
    "benignMessageBodies += added\n",
    "print(len(benignMessageBodies))"
   ]
  },
  {
   "cell_type": "code",
   "execution_count": 185,
   "id": "161c3de3-2edb-45c4-ae48-356e4f33ad2c",
   "metadata": {
    "tags": []
   },
   "outputs": [
    {
     "name": "stdout",
     "output_type": "stream",
     "text": [
      "980\n",
      "5303\n"
     ]
    }
   ],
   "source": [
    "enronMailDir = \"../datasets/enron/maildir_small/\"\n",
    "\n",
    "enronMessages = []\n",
    "for directory, subdir, filenames in os.walk(enronMailDir):\n",
    "    for filename in filenames:\n",
    "        with open(os.path.join(directory, filename), \"rb\") as f:\n",
    "            m = email.parser.Parser().parsestr(f.read().decode(\"utf-8\", errors=\"ignore\"))\n",
    "            enronMessages.append(m)\n",
    "\n",
    "added = []\n",
    "for m in enronMessages:\n",
    "    body = get_body_from_email(m)\n",
    "    if body is not None and len(body) > 0:\n",
    "        added.append(body)\n",
    "\n",
    "# limit the amount added, so that benign is not >> phishing\n",
    "if len(added) + len(benignMessageBodies) > len(phishingMessageBodies):\n",
    "    toAdd = round((1.1 * len(phishingMessageBodies)) - len(benignMessageBodies))\n",
    "    print(toAdd)\n",
    "    added = added[:toAdd]\n",
    "\n",
    "benignMessageBodies += added\n",
    "print(len(benignMessageBodies))"
   ]
  },
  {
   "cell_type": "markdown",
   "id": "ec3c2a37-b335-48f5-ab62-cbafb0d83091",
   "metadata": {},
   "source": [
    "## Simple preprocessing"
   ]
  },
  {
   "cell_type": "code",
   "execution_count": 186,
   "id": "4bb9bfa7-378e-42da-9b9d-7a42fe340d85",
   "metadata": {
    "tags": []
   },
   "outputs": [],
   "source": [
    "# Custom stop words and preprocessing filters\n",
    "\n",
    "stopWords = nltk.corpus.stopwords\n",
    "stopWords = stopWords.words(\"english\")\n",
    "stopWords.extend([\"nbsp\", \"font\", \"sans\", \"serif\", \"bold\", \"arial\", \"verdana\", \"helvetica\", \"http\", \"https\", \"www\", \"html\", \"enron\", \"margin\", \"spamassassin\"])\n",
    "\n",
    "def remove_custom_stopwords(p):\n",
    "    return remove_stopwords(p, stopwords=stopWords)\n",
    "\n",
    "CUSTOM_FILTERS = [lambda x: x.lower(), strip_tags, strip_punctuation, strip_multiple_whitespaces, strip_numeric, remove_custom_stopwords, remove_stopwords, strip_short, stem_text]"
   ]
  },
  {
   "cell_type": "code",
   "execution_count": 187,
   "id": "b316a5a7-152c-41c3-82b7-f91ca892e078",
   "metadata": {},
   "outputs": [],
   "source": [
    "# Decode to utf-8 as needed\n",
    "\n",
    "# Phishing\n",
    "phishingDecoded = []\n",
    "for b in phishingMessageBodies:\n",
    "    try:\n",
    "        p = b.decode(\"utf-8\", errors=\"ignore\")\n",
    "    except AttributeError:\n",
    "        p = b\n",
    "    phishingDecoded.append(p)\n",
    "phishingMessageBodies = phishingDecoded\n",
    "\n",
    "# Benign\n",
    "benignDecoded = []\n",
    "for b in benignMessageBodies:\n",
    "    try:\n",
    "        p = b.decode(\"utf-8\", errors=\"ignore\")\n",
    "    except AttributeError:\n",
    "        p = b\n",
    "    benignDecoded.append(p)\n",
    "benignMessageBodies = benignDecoded"
   ]
  },
  {
   "cell_type": "code",
   "execution_count": 188,
   "id": "1fcf22e3-08b0-4d1f-9a60-7bc12c538c55",
   "metadata": {
    "tags": []
   },
   "outputs": [
    {
     "name": "stdout",
     "output_type": "stream",
     "text": [
      "4821\n"
     ]
    }
   ],
   "source": [
    "# Phishing emails\n",
    "phishingPreprocessed = []\n",
    "for b in phishingMessageBodies:\n",
    "    p = preprocess_string(b, filters=CUSTOM_FILTERS)\n",
    "    #p = gensim.parsing.preprocessing.remove_stopwords(p, stopwords=stopWords\n",
    "    \n",
    "    phishingPreprocessed.append(p)\n",
    "print(len(phishingPreprocessed))"
   ]
  },
  {
   "cell_type": "code",
   "execution_count": 189,
   "id": "49e636df-a3b9-4256-ac5f-3b2566b908d7",
   "metadata": {
    "tags": []
   },
   "outputs": [
    {
     "name": "stdout",
     "output_type": "stream",
     "text": [
      "5303\n"
     ]
    }
   ],
   "source": [
    "# Benign emails\n",
    "benignPreprocessed = []\n",
    "for b in benignMessageBodies:\n",
    "    p = preprocess_string(b, filters=CUSTOM_FILTERS)\n",
    "    benignPreprocessed.append(p)\n",
    "print(len(benignPreprocessed))"
   ]
  },
  {
   "cell_type": "markdown",
   "id": "b598a910-eacf-41ac-9de3-bc57eadc1eba",
   "metadata": {
    "jp-MarkdownHeadingCollapsed": true,
    "tags": []
   },
   "source": [
    "# Word2vec"
   ]
  },
  {
   "cell_type": "code",
   "execution_count": 190,
   "id": "97c892a0-928b-4b5f-9edc-73117b2921aa",
   "metadata": {
    "tags": []
   },
   "outputs": [],
   "source": [
    "# Train the model on all messages\n",
    "model = Word2Vec(phishingPreprocessed + benignPreprocessed, min_count=1, workers=3, window=5)"
   ]
  },
  {
   "cell_type": "code",
   "execution_count": 191,
   "id": "21b34b42-9e97-4b8f-9822-03b8b81b3aa0",
   "metadata": {
    "tags": []
   },
   "outputs": [
    {
     "data": {
      "text/plain": [
       "[('million', 0.8771820068359375),\n",
       " ('pound', 0.835473358631134),\n",
       " ('thousand', 0.8199453949928284),\n",
       " ('llar', 0.8103737235069275),\n",
       " ('sterl', 0.7795438766479492),\n",
       " ('billion', 0.7657280564308167),\n",
       " ('emillion', 0.7640974521636963),\n",
       " ('quadrupl', 0.7639614939689636),\n",
       " ('ten', 0.7588891983032227),\n",
       " ('thirti', 0.7549144625663757),\n",
       " ('gbp', 0.7397751808166504),\n",
       " ('cinq', 0.7269525527954102),\n",
       " ('milliom', 0.7263365983963013),\n",
       " ('sum', 0.7234614491462708),\n",
       " ('millio', 0.7232768535614014),\n",
       " ('lutz', 0.717158317565918),\n",
       " ('dolla', 0.7150030732154846),\n",
       " ('slobber', 0.7135447263717651),\n",
       " ('estim', 0.7082199454307556),\n",
       " ('ancien', 0.7078647613525391)]"
      ]
     },
     "execution_count": 191,
     "metadata": {},
     "output_type": "execute_result"
    }
   ],
   "source": [
    "model.wv.most_similar(\"dollar\", topn=20)"
   ]
  },
  {
   "cell_type": "code",
   "execution_count": 192,
   "id": "4d5f0de6-ca2a-4636-a77f-f35444f343ef",
   "metadata": {
    "tags": []
   },
   "outputs": [
    {
     "data": {
      "text/plain": [
       "array([ 1.0434579 ,  1.5792087 , -0.20492308,  0.4844793 ,  0.2713335 ,\n",
       "        0.5268665 ,  0.5354407 ,  2.3988278 , -4.027642  ,  0.8331856 ,\n",
       "       -0.19110179, -3.2455664 , -0.8541209 , -0.6263656 ,  1.9553957 ,\n",
       "        1.120782  , -0.50631493,  0.03150719,  1.9030588 , -0.1771327 ,\n",
       "        0.3366315 ,  2.1387613 , -0.5205003 , -1.4690092 ,  0.49971166,\n",
       "       -3.1076107 ,  1.5153282 , -4.0155706 ,  1.953885  , -0.9172147 ,\n",
       "        1.972871  , -0.231783  , -0.36689323, -0.4945798 , -1.1569089 ,\n",
       "        2.8094742 , -0.01640786, -1.2396212 ,  2.563973  , -3.3035362 ,\n",
       "        0.4665597 , -0.757642  ,  1.541693  ,  0.67673445,  3.5879328 ,\n",
       "        1.5686477 , -1.3444768 , -0.9174693 , -0.6196464 ,  0.71025485,\n",
       "        1.0767586 ,  0.15271577, -1.8857561 , -0.2914614 , -0.50885075,\n",
       "        0.16973539, -0.31749567,  1.6888337 , -1.4489156 , -0.09550829,\n",
       "       -0.18258822,  2.7118845 , -0.92725605, -1.0902765 ,  0.33709738,\n",
       "       -0.06002488,  0.22126031,  1.8513176 , -1.0374069 ,  2.1269617 ,\n",
       "       -0.49274123, -1.1386377 ,  0.70940125, -1.1939231 ,  2.599155  ,\n",
       "       -2.6469295 , -0.18655685,  0.687207  , -0.3800159 , -2.935615  ,\n",
       "       -0.22969286, -1.7625641 , -2.710633  ,  2.788103  ,  0.507238  ,\n",
       "        1.1654674 , -2.9675567 , -0.7949704 ,  0.54686517, -0.5259199 ,\n",
       "       -0.01124007, -0.6277696 , -1.2148792 , -1.8116895 ,  2.0603142 ,\n",
       "        1.6476967 ,  0.42399654, -0.55264306,  2.2601511 , -2.5228524 ],\n",
       "      dtype=float32)"
      ]
     },
     "execution_count": 192,
     "metadata": {},
     "output_type": "execute_result"
    }
   ],
   "source": [
    "model.wv[\"dollar\"]"
   ]
  },
  {
   "cell_type": "markdown",
   "id": "c607a8a0-a8d2-4845-a233-2bccce65be2b",
   "metadata": {
    "jp-MarkdownHeadingCollapsed": true,
    "tags": []
   },
   "source": [
    "# Wordcloud"
   ]
  },
  {
   "cell_type": "markdown",
   "id": "66b7310a-b3cf-49ca-9c07-d875f1815b16",
   "metadata": {},
   "source": [
    "## Both"
   ]
  },
  {
   "cell_type": "code",
   "execution_count": 193,
   "id": "b5c4b5a1-297e-4561-bd5a-43e774bfbd03",
   "metadata": {
    "tags": []
   },
   "outputs": [
    {
     "data": {
      "text/plain": [
       "'cloudString = \"\"\\nfor doc in phishingPreprocessed + benignPreprocessed:\\n    cloudString += \",\".join(doc)'"
      ]
     },
     "execution_count": 193,
     "metadata": {},
     "output_type": "execute_result"
    }
   ],
   "source": [
    "#cloudString = ','.join(','.join(list(phishingPreprocessed + benignPreprocessed)))\n",
    "'''cloudString = \"\"\n",
    "for doc in phishingPreprocessed + benignPreprocessed:\n",
    "    cloudString += \",\".join(doc)'''"
   ]
  },
  {
   "cell_type": "code",
   "execution_count": 194,
   "id": "9bb157dd-244e-4e22-b0e6-c01fead35c47",
   "metadata": {
    "tags": []
   },
   "outputs": [
    {
     "data": {
      "text/plain": [
       "'wordCloud = WordCloud(max_words=5000, background_color=\"white\")\\nwordCloud.generate(cloudString)\\nwordCloud.to_image()'"
      ]
     },
     "execution_count": 194,
     "metadata": {},
     "output_type": "execute_result"
    }
   ],
   "source": [
    "'''wordCloud = WordCloud(max_words=5000, background_color=\"white\")\n",
    "wordCloud.generate(cloudString)\n",
    "wordCloud.to_image()'''"
   ]
  },
  {
   "cell_type": "markdown",
   "id": "68814174-9472-4d4f-be36-bb559e44c458",
   "metadata": {
    "tags": []
   },
   "source": [
    "# LDA Topic Modeling"
   ]
  },
  {
   "cell_type": "code",
   "execution_count": 195,
   "id": "577b3b31-50ee-4a9b-86e6-b0227c34669f",
   "metadata": {
    "tags": []
   },
   "outputs": [],
   "source": [
    "numTopics = 1024"
   ]
  },
  {
   "cell_type": "markdown",
   "id": "b6be50cd-4fc7-4ca9-9c4a-02392028413d",
   "metadata": {
    "tags": []
   },
   "source": [
    "## Both"
   ]
  },
  {
   "cell_type": "code",
   "execution_count": 196,
   "id": "bc16ede4-2fc4-4e60-b512-51aa4c2bde30",
   "metadata": {
    "tags": []
   },
   "outputs": [],
   "source": [
    "# Create dictionary and corpus\n",
    "dictionary = gensim.corpora.Dictionary(phishingPreprocessed + benignPreprocessed)\n",
    "corpus = [dictionary.doc2bow(text) for text in phishingPreprocessed + benignPreprocessed] # Term document frequency"
   ]
  },
  {
   "cell_type": "code",
   "execution_count": 197,
   "id": "259a40b3-c98e-4142-91fa-8fe3795b9492",
   "metadata": {},
   "outputs": [
    {
     "data": {
      "text/plain": [
       "['../models/ldaDictionary.joblib']"
      ]
     },
     "execution_count": 197,
     "metadata": {},
     "output_type": "execute_result"
    }
   ],
   "source": [
    "joblib.dump(dictionary, \"../models/ldaDictionary.joblib\")"
   ]
  },
  {
   "cell_type": "code",
   "execution_count": 198,
   "id": "d7ca15a2-8a80-4bfe-9871-e6f34f05fc0a",
   "metadata": {
    "tags": []
   },
   "outputs": [],
   "source": [
    "# Create model\n",
    "ldaModel = gensim.models.LdaMulticore(corpus=corpus, id2word=dictionary, num_topics=numTopics)"
   ]
  },
  {
   "cell_type": "code",
   "execution_count": 199,
   "id": "4e8cb110-3af5-46cf-a13a-8db88324a669",
   "metadata": {
    "tags": []
   },
   "outputs": [
    {
     "name": "stdout",
     "output_type": "stream",
     "text": [
      "[(933, '0.019*\"com\" + 0.015*\"exmh\" + 0.010*\"list\" + 0.010*\"voter\" + 0.008*\"gift\" + 0.008*\"like\" + 0.007*\"linux\" + 0.007*\"email\" + 0.006*\"imag\" + 0.006*\"user\"'), (941, '0.029*\"com\" + 0.012*\"account\" + 0.012*\"paypal\" + 0.011*\"email\" + 0.010*\"zoom\" + 0.010*\"click\" + 0.006*\"new\" + 0.006*\"monei\" + 0.005*\"venmo\" + 0.005*\"offer\"'), (334, '0.010*\"ebai\" + 0.006*\"new\" + 0.005*\"account\" + 0.005*\"inform\" + 0.005*\"user\" + 0.004*\"agreement\" + 0.004*\"mail\" + 0.004*\"com\" + 0.004*\"monei\" + 0.004*\"year\"'), (689, '0.053*\"com\" + 0.021*\"ebai\" + 0.013*\"click\" + 0.009*\"universalstudio\" + 0.009*\"email\" + 0.009*\"help\" + 0.008*\"netflix\" + 0.005*\"polici\" + 0.005*\"url\" + 0.005*\"privaci\"'), (561, '0.025*\"org\" + 0.021*\"campaign\" + 0.021*\"click\" + 0.010*\"ebai\" + 0.008*\"email\" + 0.007*\"monei\" + 0.007*\"visit\" + 0.007*\"follow\" + 0.007*\"help\" + 0.006*\"account\"'), (590, '0.028*\"account\" + 0.012*\"inform\" + 0.010*\"access\" + 0.009*\"paypal\" + 0.008*\"secur\" + 0.007*\"limit\" + 0.007*\"fund\" + 0.006*\"monei\" + 0.006*\"protect\" + 0.006*\"complet\"'), (225, '0.029*\"com\" + 0.017*\"account\" + 0.012*\"ebai\" + 0.010*\"email\" + 0.009*\"gmail\" + 0.008*\"paypal\" + 0.007*\"secur\" + 0.006*\"polici\" + 0.006*\"address\" + 0.006*\"amateur\"'), (747, '0.014*\"account\" + 0.009*\"com\" + 0.008*\"paypal\" + 0.008*\"secur\" + 0.007*\"color\" + 0.006*\"inform\" + 0.006*\"contact\" + 0.006*\"email\" + 0.006*\"size\" + 0.005*\"list\"'), (987, '0.009*\"monei\" + 0.008*\"transfer\" + 0.008*\"account\" + 0.008*\"com\" + 0.007*\"report\" + 0.006*\"compani\" + 0.005*\"mail\" + 0.005*\"fund\" + 0.005*\"secur\" + 0.005*\"email\"'), (646, '0.017*\"account\" + 0.017*\"org\" + 0.016*\"campaign\" + 0.013*\"click\" + 0.008*\"linux\" + 0.007*\"transact\" + 0.006*\"bank\" + 0.006*\"paypal\" + 0.006*\"new\" + 0.006*\"transfer\"'), (438, '0.013*\"com\" + 0.008*\"licenc\" + 0.007*\"law\" + 0.007*\"region\" + 0.007*\"email\" + 0.005*\"zwnj\" + 0.005*\"expens\" + 0.004*\"french\" + 0.004*\"defect\" + 0.004*\"aid\"'), (909, '0.019*\"bank\" + 0.014*\"account\" + 0.013*\"com\" + 0.010*\"ebai\" + 0.008*\"inform\" + 0.007*\"new\" + 0.007*\"secur\" + 0.007*\"size\" + 0.006*\"updat\" + 0.006*\"barclai\"'), (268, '0.006*\"optic\" + 0.005*\"govern\" + 0.005*\"said\" + 0.005*\"com\" + 0.005*\"countri\" + 0.004*\"contact\" + 0.004*\"invest\" + 0.004*\"fund\" + 0.004*\"medina\" + 0.004*\"year\"'), (891, '0.027*\"com\" + 0.016*\"new\" + 0.013*\"auto\" + 0.013*\"autotun\" + 0.012*\"vebotnhurpxcw\" + 0.011*\"swrv\" + 0.011*\"atoffahyntgmarfg\" + 0.010*\"tune\" + 0.010*\"bui\" + 0.008*\"price\"'), (604, '0.040*\"campaign\" + 0.038*\"org\" + 0.033*\"click\" + 0.014*\"nsc\" + 0.013*\"email\" + 0.007*\"region\" + 0.006*\"color\" + 0.006*\"account\" + 0.006*\"com\" + 0.005*\"member\"'), (153, '0.012*\"com\" + 0.012*\"monei\" + 0.011*\"receiv\" + 0.010*\"email\" + 0.010*\"ebai\" + 0.008*\"internet\" + 0.006*\"bank\" + 0.006*\"free\" + 0.005*\"make\" + 0.005*\"mail\"'), (283, '0.012*\"monei\" + 0.009*\"click\" + 0.008*\"account\" + 0.007*\"want\" + 0.006*\"campaign\" + 0.006*\"new\" + 0.006*\"org\" + 0.005*\"mail\" + 0.005*\"servic\" + 0.005*\"com\"'), (546, '0.050*\"com\" + 0.008*\"color\" + 0.008*\"weblog\" + 0.007*\"wsj\" + 0.007*\"radio\" + 0.006*\"blog\" + 0.006*\"messag\" + 0.006*\"size\" + 0.006*\"famili\" + 0.005*\"email\"'), (250, '0.011*\"com\" + 0.009*\"email\" + 0.008*\"free\" + 0.006*\"visit\" + 0.006*\"click\" + 0.006*\"monei\" + 0.006*\"coupon\" + 0.006*\"bizopp\" + 0.006*\"fastbizonlin\" + 0.005*\"bank\"'), (128, '0.013*\"account\" + 0.012*\"ebai\" + 0.008*\"famili\" + 0.007*\"size\" + 0.007*\"com\" + 0.007*\"state\" + 0.007*\"inform\" + 0.006*\"mail\" + 0.006*\"govern\" + 0.006*\"secur\"')]\n"
     ]
    }
   ],
   "source": [
    "# Print keyword for the topics\n",
    "print(ldaModel.print_topics())"
   ]
  },
  {
   "cell_type": "code",
   "execution_count": 200,
   "id": "58c3a7fa-27bc-416b-ba4a-9df5c1c57af6",
   "metadata": {},
   "outputs": [
    {
     "data": {
      "text/plain": [
       "['../models/ldaModel.joblib']"
      ]
     },
     "execution_count": 200,
     "metadata": {},
     "output_type": "execute_result"
    }
   ],
   "source": [
    "joblib.dump(ldaModel, \"../models/ldaModel.joblib\")"
   ]
  },
  {
   "cell_type": "code",
   "execution_count": 201,
   "id": "342ca9d2-0459-445a-b7cf-879e4c732ec0",
   "metadata": {
    "tags": []
   },
   "outputs": [
    {
     "data": {
      "text/plain": [
       "'# Visualize LDA\\npyLDAvis.enable_notebook()\\n\\nldavis = pyLDAvis.gensim.prepare(ldaModel, corpus, dictionary)\\npyLDAvis.save_html(ldavis, \"../results/ldavis_both.html\")\\n#ldavis'"
      ]
     },
     "execution_count": 201,
     "metadata": {},
     "output_type": "execute_result"
    }
   ],
   "source": [
    "'''# Visualize LDA\n",
    "pyLDAvis.enable_notebook()\n",
    "\n",
    "ldavis = pyLDAvis.gensim.prepare(ldaModel, corpus, dictionary)\n",
    "pyLDAvis.save_html(ldavis, \"../results/ldavis_both.html\")\n",
    "#ldavis'''"
   ]
  },
  {
   "cell_type": "markdown",
   "id": "2aa5f041-ac02-4400-ae28-6d70a88e43f8",
   "metadata": {
    "tags": []
   },
   "source": [
    "## Phishing"
   ]
  },
  {
   "cell_type": "code",
   "execution_count": 202,
   "id": "29b0886b-d858-40c4-8ede-3e728de898a6",
   "metadata": {
    "tags": []
   },
   "outputs": [
    {
     "data": {
      "text/plain": [
       "'# Create dictionary and corpus\\ndictionaryPhishing= gensim.corpora.Dictionary(phishingPreprocessed)\\ncorpusPhishing = [dictionaryPhishing.doc2bow(text) for text in phishingPreprocessed] # Term document frequency'"
      ]
     },
     "execution_count": 202,
     "metadata": {},
     "output_type": "execute_result"
    }
   ],
   "source": [
    "'''# Create dictionary and corpus\n",
    "dictionaryPhishing= gensim.corpora.Dictionary(phishingPreprocessed)\n",
    "corpusPhishing = [dictionaryPhishing.doc2bow(text) for text in phishingPreprocessed] # Term document frequency'''"
   ]
  },
  {
   "cell_type": "code",
   "execution_count": 203,
   "id": "baac01b9-38de-41d6-8105-bb5a739c93a4",
   "metadata": {
    "tags": []
   },
   "outputs": [
    {
     "data": {
      "text/plain": [
       "'# Create model\\nldaModelPhishing = gensim.models.LdaMulticore(corpus=corpusPhishing, id2word=dictionaryPhishing, num_topics=numTopics)'"
      ]
     },
     "execution_count": 203,
     "metadata": {},
     "output_type": "execute_result"
    }
   ],
   "source": [
    "'''# Create model\n",
    "ldaModelPhishing = gensim.models.LdaMulticore(corpus=corpusPhishing, id2word=dictionaryPhishing, num_topics=numTopics)'''"
   ]
  },
  {
   "cell_type": "code",
   "execution_count": 204,
   "id": "03e96d40-08ac-4724-bd4b-16f558e81b90",
   "metadata": {
    "tags": []
   },
   "outputs": [
    {
     "data": {
      "text/plain": [
       "'# Visualize LDA\\npyLDAvis.enable_notebook()\\n\\nldavisPhishing = pyLDAvis.gensim.prepare(ldaModelPhishing, corpusPhishing, dictionaryPhishing)\\npyLDAvis.save_html(ldavisPhishing, \"../results/ldavis_phishing.html\")\\n#ldavisPhishing'"
      ]
     },
     "execution_count": 204,
     "metadata": {},
     "output_type": "execute_result"
    }
   ],
   "source": [
    "'''# Visualize LDA\n",
    "pyLDAvis.enable_notebook()\n",
    "\n",
    "ldavisPhishing = pyLDAvis.gensim.prepare(ldaModelPhishing, corpusPhishing, dictionaryPhishing)\n",
    "pyLDAvis.save_html(ldavisPhishing, \"../results/ldavis_phishing.html\")\n",
    "#ldavisPhishing'''"
   ]
  },
  {
   "cell_type": "markdown",
   "id": "15075580-25a7-412c-ad19-b8743d6e4840",
   "metadata": {
    "tags": []
   },
   "source": [
    "## Benign"
   ]
  },
  {
   "cell_type": "code",
   "execution_count": 205,
   "id": "1a4c53ee-30f6-4755-a87e-35af3caa864d",
   "metadata": {},
   "outputs": [
    {
     "data": {
      "text/plain": [
       "'# Create dictionary and corpus\\ndictionaryBenign = gensim.corpora.Dictionary(benignPreprocessed)\\ncorpusBenign = [dictionaryBenign.doc2bow(text) for text in benignPreprocessed] # Term document frequency'"
      ]
     },
     "execution_count": 205,
     "metadata": {},
     "output_type": "execute_result"
    }
   ],
   "source": [
    "'''# Create dictionary and corpus\n",
    "dictionaryBenign = gensim.corpora.Dictionary(benignPreprocessed)\n",
    "corpusBenign = [dictionaryBenign.doc2bow(text) for text in benignPreprocessed] # Term document frequency'''"
   ]
  },
  {
   "cell_type": "code",
   "execution_count": 206,
   "id": "0d330d0e-0235-491f-8115-aa2d23db59e9",
   "metadata": {},
   "outputs": [
    {
     "data": {
      "text/plain": [
       "'# Create model\\nldaModelBenign = gensim.models.LdaMulticore(corpus=corpusBenign, id2word=dictionaryBenign, num_topics=numTopics)'"
      ]
     },
     "execution_count": 206,
     "metadata": {},
     "output_type": "execute_result"
    }
   ],
   "source": [
    "'''# Create model\n",
    "ldaModelBenign = gensim.models.LdaMulticore(corpus=corpusBenign, id2word=dictionaryBenign, num_topics=numTopics)'''"
   ]
  },
  {
   "cell_type": "code",
   "execution_count": 207,
   "id": "8487bdd8-0058-45d4-a7d0-59edb7461a9b",
   "metadata": {
    "tags": []
   },
   "outputs": [
    {
     "data": {
      "text/plain": [
       "'# Visualize LDA\\npyLDAvis.enable_notebook()\\n\\nldavisBenign = pyLDAvis.gensim.prepare(ldaModelBenign, corpusBenign, dictionaryBenign)\\npyLDAvis.save_html(ldavisBenign, \"../results/ldavis_benign.html\")\\n#ldavisBenign'"
      ]
     },
     "execution_count": 207,
     "metadata": {},
     "output_type": "execute_result"
    }
   ],
   "source": [
    "'''# Visualize LDA\n",
    "pyLDAvis.enable_notebook()\n",
    "\n",
    "ldavisBenign = pyLDAvis.gensim.prepare(ldaModelBenign, corpusBenign, dictionaryBenign)\n",
    "pyLDAvis.save_html(ldavisBenign, \"../results/ldavis_benign.html\")\n",
    "#ldavisBenign'''"
   ]
  },
  {
   "cell_type": "markdown",
   "id": "0f367f65-315a-426e-be83-f07b24797a11",
   "metadata": {},
   "source": [
    "# Doc2Vec"
   ]
  },
  {
   "cell_type": "code",
   "execution_count": 208,
   "id": "518ae5c9-9675-4cf1-acf6-edcfbfed66ba",
   "metadata": {
    "tags": []
   },
   "outputs": [],
   "source": [
    "taggedDocs = [TaggedDocument(doc, [i]) for i, doc in enumerate(phishingPreprocessed + benignPreprocessed)]"
   ]
  },
  {
   "cell_type": "code",
   "execution_count": 209,
   "id": "733e2cb4-c59b-4ee8-b833-d87a31690730",
   "metadata": {
    "tags": []
   },
   "outputs": [],
   "source": [
    "doc2VecModel = Doc2Vec(taggedDocs, vector_size=20, window=2, min_count=1, workers=4)"
   ]
  },
  {
   "cell_type": "code",
   "execution_count": 210,
   "id": "90b08988-341a-4ab5-bb3c-d1763623ad6c",
   "metadata": {},
   "outputs": [
    {
     "data": {
      "text/plain": [
       "['../models/doc2VecModel.joblib']"
      ]
     },
     "execution_count": 210,
     "metadata": {},
     "output_type": "execute_result"
    }
   ],
   "source": [
    "joblib.dump(doc2VecModel, \"../models/doc2VecModel.joblib\")"
   ]
  },
  {
   "cell_type": "markdown",
   "id": "9e9557b4-a385-4ab3-984d-79fceaf00f6c",
   "metadata": {},
   "source": [
    "# Classification"
   ]
  },
  {
   "cell_type": "code",
   "execution_count": 211,
   "id": "2a86c78e-6649-41bb-b851-26ee1ff37271",
   "metadata": {},
   "outputs": [],
   "source": [
    "allPreprocessed = phishingPreprocessed + benignPreprocessed\n",
    "allBodies = phishingMessageBodies + benignMessageBodies"
   ]
  },
  {
   "cell_type": "code",
   "execution_count": 212,
   "id": "a6742f5a-d87e-4875-850c-02e13a4a22d7",
   "metadata": {
    "editable": true,
    "slideshow": {
     "slide_type": ""
    },
    "tags": []
   },
   "outputs": [],
   "source": [
    "# Blacklisted words and phrases pulled form spam wordlist\n",
    "# Will be a list of lists. Each phrase/words is a list of preprocessed words If a given email has all of the stemmed/preprocessed words in a given list, it's a hit.\n",
    "\n",
    "blackListWords = []\n",
    "with open(\"spam_wordlist.txt\", 'r') as f:\n",
    "    for line in f:\n",
    "        blackListWords.append(line)\n",
    "\n",
    "blackList = []\n",
    "for b in blackListWords:\n",
    "    blackListEntry = preprocess_string(b, filters=CUSTOM_FILTERS)\n",
    "    if len(blackListEntry) > 0 and blackListEntry not in blackList:\n",
    "        blackList.append(blackListEntry)"
   ]
  },
  {
   "cell_type": "code",
   "execution_count": 213,
   "id": "ed431ccf-93be-4983-bb37-ca0caee81dcf",
   "metadata": {},
   "outputs": [
    {
     "name": "stdout",
     "output_type": "stream",
     "text": [
      "['account' 'bank' 'click' 'com' 'ebai' 'email']\n",
      "(10124, 6)\n"
     ]
    }
   ],
   "source": [
    "# TF-IDF for the top set amount of words\n",
    "maximumTermCount = 6\n",
    "\n",
    "def preprocessor_func(s):\n",
    "    sentence = \" \".join(preprocess_string(s, filters=CUSTOM_FILTERS))\n",
    "    return sentence\n",
    "\n",
    "tfIDFVectorizer = TfidfVectorizer(max_features=maximumTermCount, preprocessor=preprocessor_func, sublinear_tf=True)\n",
    "tfIDF = tfIDFVectorizer.fit_transform(allBodies).toarray()\n",
    "print(tfIDFVectorizer.get_feature_names_out())\n",
    "print(tfIDF.shape)"
   ]
  },
  {
   "cell_type": "code",
   "execution_count": 214,
   "id": "21568bea-9130-446f-bc7e-49025835117f",
   "metadata": {},
   "outputs": [
    {
     "data": {
      "text/plain": [
       "['../models/tfIDF.joblib']"
      ]
     },
     "execution_count": 214,
     "metadata": {},
     "output_type": "execute_result"
    }
   ],
   "source": [
    "joblib.dump(tfIDF, \"../models/tfIDF.joblib\")"
   ]
  },
  {
   "cell_type": "code",
   "execution_count": 215,
   "id": "f534b875-9e73-47a2-95b7-61ac9607956d",
   "metadata": {},
   "outputs": [],
   "source": [
    "def count_all_upper_word(text):\n",
    "    count = 0 \n",
    "    for word in text.split():\n",
    "        if word.upper() == word:\n",
    "            count += 1\n",
    "\n",
    "    return count"
   ]
  },
  {
   "cell_type": "code",
   "execution_count": 216,
   "id": "a7fdc26b-c740-4405-b4f6-1716b2e1b901",
   "metadata": {
    "editable": true,
    "slideshow": {
     "slide_type": ""
    },
    "tags": []
   },
   "outputs": [],
   "source": [
    "allVectors = []\n",
    "for i in range(len(allBodies)):\n",
    "    topTopics = ldaModel.get_document_topics(corpus[i], minimum_probability=0.0)\n",
    "    \n",
    "    # Can extend this array with other stuff later\n",
    "    vec = [topTopics[i][1] for i in range(numTopics)] # Topics\n",
    "\n",
    "    for v in doc2VecModel.infer_vector(allPreprocessed[i]): # Doc2Vec\n",
    "        vec.append(v)\n",
    "\n",
    "    # Sentiment analysis of polarity\n",
    "    sia = SentimentIntensityAnalyzer()\n",
    "    sentence = \" \".join(allPreprocessed[i])\n",
    "    polarity = sia.polarity_scores(sentence)\n",
    "    for s in polarity:\n",
    "        vec.append(polarity[s])\n",
    "\n",
    "    # Contains HTML\n",
    "    if \"<html>\" in allBodies[i].lower():\n",
    "        vec.append(1)\n",
    "    else:\n",
    "        vec.append(0)\n",
    "\n",
    "    # Contains a link (how many)\n",
    "    if \"http://\" in allBodies[i].lower() or \"https://\" in allBodies[i].lower():\n",
    "        vec.append(1)\n",
    "    else:\n",
    "        vec.append(0)\n",
    "\n",
    "    # How many blacklisted phrases/words appear in this email\n",
    "    for b in blackList:\n",
    "        count = 0\n",
    "        for word in b:\n",
    "            if word in allPreprocessed[i]:\n",
    "                count += 1\n",
    "        vec.append(count)\n",
    "\n",
    "    # TF-IDF for top terms\n",
    "    for w in tfIDF[i]:\n",
    "        vec.append(w)\n",
    "\n",
    "    # Has all caps word?\n",
    "    vec.append(count_all_upper_word(allBodies[i]))\n",
    "\n",
    "    # Has exclamation marks?\n",
    "    vec.append(allBodies[i].count(\"!\"))\n",
    "\n",
    "    # Total length\n",
    "    vec.append(len(allBodies[i]))\n",
    "\n",
    "    # Num words\n",
    "    vec.append(len(allPreprocessed[i]))\n",
    "    \n",
    "    allVectors.append(vec)"
   ]
  },
  {
   "cell_type": "code",
   "execution_count": 217,
   "id": "0da33025-dfa9-490e-943c-52e8291cddae",
   "metadata": {},
   "outputs": [
    {
     "name": "stdout",
     "output_type": "stream",
     "text": [
      "(10124, 1429)\n"
     ]
    }
   ],
   "source": [
    "print(np.array(allVectors).shape)"
   ]
  },
  {
   "cell_type": "code",
   "execution_count": 218,
   "id": "350a27d0-2c4c-4ca4-8765-0f2b5741f447",
   "metadata": {
    "tags": []
   },
   "outputs": [],
   "source": [
    "allLabels = []\n",
    "for i in range(len(phishingPreprocessed)):\n",
    "    allLabels.append(1)\n",
    "for i in range(len(benignPreprocessed)):\n",
    "    allLabels.append(0)"
   ]
  },
  {
   "cell_type": "code",
   "execution_count": 219,
   "id": "639b36cd-b927-45d4-a74f-81ccc15f4ba6",
   "metadata": {
    "tags": []
   },
   "outputs": [],
   "source": [
    "# Scale and split data\n",
    "#scaler = MinMaxScaler()\n",
    "scaler = StandardScaler()\n",
    "scaler.fit(allVectors)\n",
    "X_train, X_test, y_train, y_test = train_test_split(scaler.transform(allVectors), allLabels, test_size=0.2, shuffle=True)"
   ]
  },
  {
   "cell_type": "markdown",
   "id": "1e5e1614-ed77-4206-be55-5245f005f569",
   "metadata": {},
   "source": [
    "## Random Forest"
   ]
  },
  {
   "cell_type": "code",
   "execution_count": 220,
   "id": "ac948624-5382-4596-8a1c-b85a242e3df3",
   "metadata": {
    "tags": []
   },
   "outputs": [
    {
     "data": {
      "text/html": [
       "<style>#sk-container-id-7 {color: black;background-color: white;}#sk-container-id-7 pre{padding: 0;}#sk-container-id-7 div.sk-toggleable {background-color: white;}#sk-container-id-7 label.sk-toggleable__label {cursor: pointer;display: block;width: 100%;margin-bottom: 0;padding: 0.3em;box-sizing: border-box;text-align: center;}#sk-container-id-7 label.sk-toggleable__label-arrow:before {content: \"▸\";float: left;margin-right: 0.25em;color: #696969;}#sk-container-id-7 label.sk-toggleable__label-arrow:hover:before {color: black;}#sk-container-id-7 div.sk-estimator:hover label.sk-toggleable__label-arrow:before {color: black;}#sk-container-id-7 div.sk-toggleable__content {max-height: 0;max-width: 0;overflow: hidden;text-align: left;background-color: #f0f8ff;}#sk-container-id-7 div.sk-toggleable__content pre {margin: 0.2em;color: black;border-radius: 0.25em;background-color: #f0f8ff;}#sk-container-id-7 input.sk-toggleable__control:checked~div.sk-toggleable__content {max-height: 200px;max-width: 100%;overflow: auto;}#sk-container-id-7 input.sk-toggleable__control:checked~label.sk-toggleable__label-arrow:before {content: \"▾\";}#sk-container-id-7 div.sk-estimator input.sk-toggleable__control:checked~label.sk-toggleable__label {background-color: #d4ebff;}#sk-container-id-7 div.sk-label input.sk-toggleable__control:checked~label.sk-toggleable__label {background-color: #d4ebff;}#sk-container-id-7 input.sk-hidden--visually {border: 0;clip: rect(1px 1px 1px 1px);clip: rect(1px, 1px, 1px, 1px);height: 1px;margin: -1px;overflow: hidden;padding: 0;position: absolute;width: 1px;}#sk-container-id-7 div.sk-estimator {font-family: monospace;background-color: #f0f8ff;border: 1px dotted black;border-radius: 0.25em;box-sizing: border-box;margin-bottom: 0.5em;}#sk-container-id-7 div.sk-estimator:hover {background-color: #d4ebff;}#sk-container-id-7 div.sk-parallel-item::after {content: \"\";width: 100%;border-bottom: 1px solid gray;flex-grow: 1;}#sk-container-id-7 div.sk-label:hover label.sk-toggleable__label {background-color: #d4ebff;}#sk-container-id-7 div.sk-serial::before {content: \"\";position: absolute;border-left: 1px solid gray;box-sizing: border-box;top: 0;bottom: 0;left: 50%;z-index: 0;}#sk-container-id-7 div.sk-serial {display: flex;flex-direction: column;align-items: center;background-color: white;padding-right: 0.2em;padding-left: 0.2em;position: relative;}#sk-container-id-7 div.sk-item {position: relative;z-index: 1;}#sk-container-id-7 div.sk-parallel {display: flex;align-items: stretch;justify-content: center;background-color: white;position: relative;}#sk-container-id-7 div.sk-item::before, #sk-container-id-7 div.sk-parallel-item::before {content: \"\";position: absolute;border-left: 1px solid gray;box-sizing: border-box;top: 0;bottom: 0;left: 50%;z-index: -1;}#sk-container-id-7 div.sk-parallel-item {display: flex;flex-direction: column;z-index: 1;position: relative;background-color: white;}#sk-container-id-7 div.sk-parallel-item:first-child::after {align-self: flex-end;width: 50%;}#sk-container-id-7 div.sk-parallel-item:last-child::after {align-self: flex-start;width: 50%;}#sk-container-id-7 div.sk-parallel-item:only-child::after {width: 0;}#sk-container-id-7 div.sk-dashed-wrapped {border: 1px dashed gray;margin: 0 0.4em 0.5em 0.4em;box-sizing: border-box;padding-bottom: 0.4em;background-color: white;}#sk-container-id-7 div.sk-label label {font-family: monospace;font-weight: bold;display: inline-block;line-height: 1.2em;}#sk-container-id-7 div.sk-label-container {text-align: center;}#sk-container-id-7 div.sk-container {/* jupyter's `normalize.less` sets `[hidden] { display: none; }` but bootstrap.min.css set `[hidden] { display: none !important; }` so we also need the `!important` here to be able to override the default hidden behavior on the sphinx rendered scikit-learn.org. See: https://github.com/scikit-learn/scikit-learn/issues/21755 */display: inline-block !important;position: relative;}#sk-container-id-7 div.sk-text-repr-fallback {display: none;}</style><div id=\"sk-container-id-7\" class=\"sk-top-container\"><div class=\"sk-text-repr-fallback\"><pre>RandomForestClassifier()</pre><b>In a Jupyter environment, please rerun this cell to show the HTML representation or trust the notebook. <br />On GitHub, the HTML representation is unable to render, please try loading this page with nbviewer.org.</b></div><div class=\"sk-container\" hidden><div class=\"sk-item\"><div class=\"sk-estimator sk-toggleable\"><input class=\"sk-toggleable__control sk-hidden--visually\" id=\"sk-estimator-id-7\" type=\"checkbox\" checked><label for=\"sk-estimator-id-7\" class=\"sk-toggleable__label sk-toggleable__label-arrow\">RandomForestClassifier</label><div class=\"sk-toggleable__content\"><pre>RandomForestClassifier()</pre></div></div></div></div></div>"
      ],
      "text/plain": [
       "RandomForestClassifier()"
      ]
     },
     "execution_count": 220,
     "metadata": {},
     "output_type": "execute_result"
    }
   ],
   "source": [
    "rf = RandomForestClassifier()\n",
    "#rf = make_pipeline(StandardScaler(), RandomForestClassifier())\n",
    "rf.fit(X_train, y_train)"
   ]
  },
  {
   "cell_type": "code",
   "execution_count": 221,
   "id": "f667b395-1937-4949-804d-754399ee31be",
   "metadata": {
    "tags": []
   },
   "outputs": [
    {
     "name": "stdout",
     "output_type": "stream",
     "text": [
      "Accuracy: 0.9639506172839506\n",
      "Precision: 0.9783783783783784\n",
      "Recall: 0.9446764091858038\n"
     ]
    }
   ],
   "source": [
    "y_pred = rf.predict(X_test)\n",
    "\n",
    "rfcAccuracy = accuracy_score(y_test, y_pred)\n",
    "rfcPrecision = precision_score(y_test, y_pred)\n",
    "rfcRecall = recall_score(y_test, y_pred)\n",
    "\n",
    "print(\"Accuracy:\", rfcAccuracy)\n",
    "print(\"Precision:\", rfcPrecision)\n",
    "print(\"Recall:\", rfcRecall)"
   ]
  },
  {
   "cell_type": "code",
   "execution_count": 222,
   "id": "e0e8f620-6566-417f-82bf-b3a7d9d72b19",
   "metadata": {
    "tags": []
   },
   "outputs": [
    {
     "data": {
      "image/png": "[encoded data removed]",
      "text/plain": [
       "<Figure size 640x480 with 2 Axes>"
      ]
     },
     "metadata": {},
     "output_type": "display_data"
    }
   ],
   "source": [
    "cm = confusion_matrix(y_test, y_pred)\n",
    "ConfusionMatrixDisplay(confusion_matrix=cm).plot();"
   ]
  },
  {
   "cell_type": "code",
   "execution_count": 223,
   "id": "f41f0a36-c6c2-42e7-b583-c0597545e753",
   "metadata": {},
   "outputs": [
    {
     "data": {
      "text/plain": [
       "['../models/random_forest_model.joblib']"
      ]
     },
     "execution_count": 223,
     "metadata": {},
     "output_type": "execute_result"
    }
   ],
   "source": [
    "joblib.dump(rf, \"../models/random_forest_model.joblib\")"
   ]
  },
  {
   "cell_type": "code",
   "execution_count": 224,
   "id": "bd9cbe04-7f25-478b-af38-f6bd8a1f9d1a",
   "metadata": {},
   "outputs": [
    {
     "data": {
      "text/plain": [
       "['../models/rfcStandardScaler.joblib']"
      ]
     },
     "execution_count": 224,
     "metadata": {},
     "output_type": "execute_result"
    }
   ],
   "source": [
    "joblib.dump(scaler, \"../models/rfcStandardScaler.joblib\")"
   ]
  },
  {
   "cell_type": "code",
   "execution_count": 225,
   "id": "ba9f0f42-00b2-4073-a185-665bbddd8274",
   "metadata": {},
   "outputs": [
    {
     "name": "stdout",
     "output_type": "stream",
     "text": [
      "Shape of messages: (5037, 1429)\n",
      "Phishes: 657. Benign: 4380.\n",
      "0.8695652173913043\n"
     ]
    }
   ],
   "source": [
    "def create_vectors_from_messages(messages, messagesPreprocessed):\n",
    "    corpus = [dictionary.doc2bow(text) for text in messagesPreprocessed] # Term document frequency\n",
    "    allPreprocessed = messagesPreprocessed\n",
    "    allBodies = messages\n",
    "    allVectors = []\n",
    "    for i in range(len(allBodies)):\n",
    "        topTopics = ldaModel.get_document_topics(corpus[i], minimum_probability=0.0)\n",
    "        \n",
    "        # Can extend this array with other stuff later\n",
    "        vec = [topTopics[i][1] for i in range(numTopics)] # Topics\n",
    "    \n",
    "        for v in doc2VecModel.infer_vector(allPreprocessed[i]): # Doc2Vec\n",
    "            vec.append(v)\n",
    "    \n",
    "        # Sentiment analysis of polarity\n",
    "        sia = SentimentIntensityAnalyzer()\n",
    "        sentence = \" \".join(allPreprocessed[i])\n",
    "        polarity = sia.polarity_scores(sentence)\n",
    "        for s in polarity:\n",
    "            vec.append(polarity[s])\n",
    "    \n",
    "        # Contains HTML\n",
    "        if \"<html>\" in allBodies[i].lower():\n",
    "            vec.append(1)\n",
    "        else:\n",
    "            vec.append(0)\n",
    "    \n",
    "        # Contains a link\n",
    "        if \"http://\" in allBodies[i].lower() or \"https://\" in allBodies[i].lower():\n",
    "            vec.append(1)\n",
    "        else:\n",
    "            vec.append(0)\n",
    "    \n",
    "        # How many blacklisted phrases/words appear in this email\n",
    "        for b in blackList:\n",
    "            count = 0\n",
    "            for word in b:\n",
    "                if word in allPreprocessed[i]:\n",
    "                    count += 1\n",
    "            vec.append(count)\n",
    "    \n",
    "        # TF-IDF for top terms\n",
    "        for w in tfIDF[i]:\n",
    "            vec.append(w)\n",
    "    \n",
    "        # Has all caps word?\n",
    "        vec.append(count_all_upper_word(allBodies[i]))\n",
    "    \n",
    "        # Has exclamation marks?\n",
    "        vec.append(allBodies[i].count(\"!\"))\n",
    "    \n",
    "        # Total length\n",
    "        vec.append(len(allBodies[i]))\n",
    "    \n",
    "        # Num words\n",
    "        vec.append(len(allPreprocessed[i]))\n",
    "        \n",
    "        allVectors.append(vec)\n",
    "\n",
    "    return allVectors\n",
    "\n",
    "#box = mailbox.mbox(\"../datasets/monkey/phishing1.mbox\")\n",
    "box = mailbox.mbox(\"benign.mbox\")\n",
    "boxMessages = [m[1] for m in box.items()]\n",
    "    \n",
    "messages = []\n",
    "for p in boxMessages:\n",
    "    body = get_body_from_email(p)\n",
    "    if body is not None and len(body) > 0:\n",
    "        messages.append(body)\n",
    "\n",
    "messagesDecoded = []\n",
    "for m in messages:\n",
    "    try:\n",
    "        d = m.decode(\"utf-8\", errors=\"ignore\")\n",
    "    except AttributeError:\n",
    "        d = m\n",
    "    messagesDecoded.append(d)\n",
    "messages = messagesDecoded\n",
    "\n",
    "# Apply preprocessing function to emails\n",
    "messagesPreprocessed = []\n",
    "for b in messages:\n",
    "    p = preprocess_string(b, filters=CUSTOM_FILTERS)\n",
    "    \n",
    "    messagesPreprocessed.append(p)\n",
    "\n",
    "allVectorsTest = create_vectors_from_messages(messages, messagesPreprocessed)\n",
    "print(\"Shape of messages: {}\".format(np.array(allVectorsTest).shape))\n",
    "\n",
    "# RFC Prediction\n",
    "#scaler = StandardScaler()\n",
    "#scaler.fit(allVectors)\n",
    "X = scaler.transform(allVectorsTest)\n",
    "y_pred = rf.predict(X)\n",
    "numPhishes = 0\n",
    "for i in y_pred:\n",
    "    if i == 1:\n",
    "        numPhishes += 1\n",
    "print(\"Phishes: {}. Benign: {}.\".format(numPhishes, len(messages)-numPhishes))\n",
    "gmailLabels = [0 for i in range(len(y_pred))]\n",
    "gmailAccuracy = accuracy_score(gmailLabels, y_pred)\n",
    "print(gmailAccuracy)"
   ]
  },
  {
   "cell_type": "markdown",
   "id": "2d6e1e41-6f49-4ede-91b4-1502baeff691",
   "metadata": {},
   "source": [
    "## SVC"
   ]
  },
  {
   "cell_type": "code",
   "execution_count": 226,
   "id": "edc3358d-454f-4386-baff-a8ccc50a8e75",
   "metadata": {},
   "outputs": [
    {
     "data": {
      "text/html": [
       "<style>#sk-container-id-8 {color: black;background-color: white;}#sk-container-id-8 pre{padding: 0;}#sk-container-id-8 div.sk-toggleable {background-color: white;}#sk-container-id-8 label.sk-toggleable__label {cursor: pointer;display: block;width: 100%;margin-bottom: 0;padding: 0.3em;box-sizing: border-box;text-align: center;}#sk-container-id-8 label.sk-toggleable__label-arrow:before {content: \"▸\";float: left;margin-right: 0.25em;color: #696969;}#sk-container-id-8 label.sk-toggleable__label-arrow:hover:before {color: black;}#sk-container-id-8 div.sk-estimator:hover label.sk-toggleable__label-arrow:before {color: black;}#sk-container-id-8 div.sk-toggleable__content {max-height: 0;max-width: 0;overflow: hidden;text-align: left;background-color: #f0f8ff;}#sk-container-id-8 div.sk-toggleable__content pre {margin: 0.2em;color: black;border-radius: 0.25em;background-color: #f0f8ff;}#sk-container-id-8 input.sk-toggleable__control:checked~div.sk-toggleable__content {max-height: 200px;max-width: 100%;overflow: auto;}#sk-container-id-8 input.sk-toggleable__control:checked~label.sk-toggleable__label-arrow:before {content: \"▾\";}#sk-container-id-8 div.sk-estimator input.sk-toggleable__control:checked~label.sk-toggleable__label {background-color: #d4ebff;}#sk-container-id-8 div.sk-label input.sk-toggleable__control:checked~label.sk-toggleable__label {background-color: #d4ebff;}#sk-container-id-8 input.sk-hidden--visually {border: 0;clip: rect(1px 1px 1px 1px);clip: rect(1px, 1px, 1px, 1px);height: 1px;margin: -1px;overflow: hidden;padding: 0;position: absolute;width: 1px;}#sk-container-id-8 div.sk-estimator {font-family: monospace;background-color: #f0f8ff;border: 1px dotted black;border-radius: 0.25em;box-sizing: border-box;margin-bottom: 0.5em;}#sk-container-id-8 div.sk-estimator:hover {background-color: #d4ebff;}#sk-container-id-8 div.sk-parallel-item::after {content: \"\";width: 100%;border-bottom: 1px solid gray;flex-grow: 1;}#sk-container-id-8 div.sk-label:hover label.sk-toggleable__label {background-color: #d4ebff;}#sk-container-id-8 div.sk-serial::before {content: \"\";position: absolute;border-left: 1px solid gray;box-sizing: border-box;top: 0;bottom: 0;left: 50%;z-index: 0;}#sk-container-id-8 div.sk-serial {display: flex;flex-direction: column;align-items: center;background-color: white;padding-right: 0.2em;padding-left: 0.2em;position: relative;}#sk-container-id-8 div.sk-item {position: relative;z-index: 1;}#sk-container-id-8 div.sk-parallel {display: flex;align-items: stretch;justify-content: center;background-color: white;position: relative;}#sk-container-id-8 div.sk-item::before, #sk-container-id-8 div.sk-parallel-item::before {content: \"\";position: absolute;border-left: 1px solid gray;box-sizing: border-box;top: 0;bottom: 0;left: 50%;z-index: -1;}#sk-container-id-8 div.sk-parallel-item {display: flex;flex-direction: column;z-index: 1;position: relative;background-color: white;}#sk-container-id-8 div.sk-parallel-item:first-child::after {align-self: flex-end;width: 50%;}#sk-container-id-8 div.sk-parallel-item:last-child::after {align-self: flex-start;width: 50%;}#sk-container-id-8 div.sk-parallel-item:only-child::after {width: 0;}#sk-container-id-8 div.sk-dashed-wrapped {border: 1px dashed gray;margin: 0 0.4em 0.5em 0.4em;box-sizing: border-box;padding-bottom: 0.4em;background-color: white;}#sk-container-id-8 div.sk-label label {font-family: monospace;font-weight: bold;display: inline-block;line-height: 1.2em;}#sk-container-id-8 div.sk-label-container {text-align: center;}#sk-container-id-8 div.sk-container {/* jupyter's `normalize.less` sets `[hidden] { display: none; }` but bootstrap.min.css set `[hidden] { display: none !important; }` so we also need the `!important` here to be able to override the default hidden behavior on the sphinx rendered scikit-learn.org. See: https://github.com/scikit-learn/scikit-learn/issues/21755 */display: inline-block !important;position: relative;}#sk-container-id-8 div.sk-text-repr-fallback {display: none;}</style><div id=\"sk-container-id-8\" class=\"sk-top-container\"><div class=\"sk-text-repr-fallback\"><pre>SVC(gamma=&#x27;auto&#x27;)</pre><b>In a Jupyter environment, please rerun this cell to show the HTML representation or trust the notebook. <br />On GitHub, the HTML representation is unable to render, please try loading this page with nbviewer.org.</b></div><div class=\"sk-container\" hidden><div class=\"sk-item\"><div class=\"sk-estimator sk-toggleable\"><input class=\"sk-toggleable__control sk-hidden--visually\" id=\"sk-estimator-id-8\" type=\"checkbox\" checked><label for=\"sk-estimator-id-8\" class=\"sk-toggleable__label sk-toggleable__label-arrow\">SVC</label><div class=\"sk-toggleable__content\"><pre>SVC(gamma=&#x27;auto&#x27;)</pre></div></div></div></div></div>"
      ],
      "text/plain": [
       "SVC(gamma='auto')"
      ]
     },
     "execution_count": 226,
     "metadata": {},
     "output_type": "execute_result"
    }
   ],
   "source": [
    "#svc = make_pipeline(StandardScaler(), SVC(gamma='auto'))\n",
    "svc = SVC(gamma=\"auto\")\n",
    "svc.fit(X_train, y_train)"
   ]
  },
  {
   "cell_type": "code",
   "execution_count": 227,
   "id": "7ae2caab-bed7-4f93-9d40-eb6f5be22aca",
   "metadata": {},
   "outputs": [
    {
     "name": "stdout",
     "output_type": "stream",
     "text": [
      "Accuracy: 0.9254320987654321\n",
      "Precision: 0.9600912200684151\n",
      "Recall: 0.8789144050104384\n"
     ]
    }
   ],
   "source": [
    "y_pred = svc.predict(X_test)\n",
    "\n",
    "accuracy = accuracy_score(y_test, y_pred)\n",
    "precision = precision_score(y_test, y_pred)\n",
    "recall = recall_score(y_test, y_pred)\n",
    "\n",
    "print(\"Accuracy:\", accuracy)\n",
    "print(\"Precision:\", precision)\n",
    "print(\"Recall:\", recall)"
   ]
  },
  {
   "cell_type": "code",
   "execution_count": 228,
   "id": "1d5f8573-d56d-48aa-a1ad-226874c25bfa",
   "metadata": {
    "tags": []
   },
   "outputs": [
    {
     "data": {
      "image/png": "[encoded data removed]",
      "text/plain": [
       "<Figure size 640x480 with 2 Axes>"
      ]
     },
     "metadata": {},
     "output_type": "display_data"
    }
   ],
   "source": [
    "cm = confusion_matrix(y_test, y_pred)\n",
    "ConfusionMatrixDisplay(confusion_matrix=cm).plot();"
   ]
  },
  {
   "cell_type": "markdown",
   "id": "8f41ac43-7d78-42af-ac6c-f87d99275cd7",
   "metadata": {},
   "source": [
    "# Deep Learning ConvNet (idea from https://keras.io/examples/nlp/text_classification_from_scratch/)"
   ]
  },
  {
   "cell_type": "code",
   "execution_count": 229,
   "id": "57d05854-ea99-444c-9f49-ffcd2c8ec736",
   "metadata": {},
   "outputs": [
    {
     "name": "stdout",
     "output_type": "stream",
     "text": [
      "[PhysicalDevice(name='/physical_device:GPU:0', device_type='GPU')]\n",
      "[PhysicalDevice(name='/physical_device:GPU:0', device_type='GPU')]\n"
     ]
    }
   ],
   "source": [
    "# Disable GPU\n",
    "print(tf.config.list_physical_devices('GPU'))\n",
    "tf.config.set_visible_devices([], 'GPU')\n",
    "print(tf.config.list_physical_devices('GPU'))"
   ]
  },
  {
   "cell_type": "code",
   "execution_count": 230,
   "id": "71a58dab-ada2-47cb-bb75-44adf7e83b21",
   "metadata": {
    "tags": []
   },
   "outputs": [
    {
     "name": "stdout",
     "output_type": "stream",
     "text": [
      "(1, 1429, 1)\n",
      "(10124, 1429, 1)\n",
      "(8099, 1429, 1) (8099, 1) (2025, 1429, 1) (2025, 1)\n"
     ]
    }
   ],
   "source": [
    "input_shape = (1, len(X_train[0]), 1) # Batch size is the first number\n",
    "print(input_shape)\n",
    "\n",
    "X_train = allVectors\n",
    "\n",
    "# Scale data\n",
    "scaler = StandardScaler()\n",
    "scaler.fit(X_train)\n",
    "joblib.dump(scaler, \"../models/cnnScaler.joblib\")\n",
    "X_train = scaler.transform(X_train)\n",
    "\n",
    "X_train = np.reshape(X_train, (len(X_train), input_shape[1], input_shape[2]))\n",
    "#print(X_train[30])\n",
    "print(X_train.shape)\n",
    "y_train = allLabels\n",
    "y_train = np.reshape(y_train, (len(X_train), 1))\n",
    "\n",
    "# Split data\n",
    "X_train, X_test, y_train, y_test = train_test_split(X_train, y_train, test_size=0.2, shuffle=True)\n",
    "print(X_train.shape, y_train.shape, X_test.shape, y_test.shape)"
   ]
  },
  {
   "cell_type": "code",
   "execution_count": 231,
   "id": "44e4e553-7a59-42db-bc4a-0c6e2dc6358c",
   "metadata": {
    "tags": []
   },
   "outputs": [],
   "source": [
    "embedding_dim = 1024\n",
    "num_layers = 3\n",
    "\n",
    "\n",
    "inputs = tf.keras.Input(shape=input_shape[1:], dtype=\"float\") # Input vector\n",
    "x = layers.Conv1D(embedding_dim,2, padding=\"valid\", activation=\"relu\", strides=3)(inputs)\n",
    "x = layers.Dropout(0.5)(x)\n",
    "x = layers.Conv1D(embedding_dim, 2, padding=\"valid\", activation=\"relu\", strides=3)(x)\n",
    "x = layers.Dropout(0.5)(x)\n",
    "x = layers.Conv1D(embedding_dim, 2, padding=\"valid\", activation=\"relu\", strides=3)(x)\n",
    "x = layers.GlobalMaxPooling1D()(x)\n",
    "x = layers.Dense(embedding_dim, activation=\"relu\")(x)\n",
    "x = layers.Dropout(0.5)(x)\n",
    "# We project onto a single unit output layer, and squash it with a sigmoid:\n",
    "predictions = layers.Dense(1, activation=\"sigmoid\", name=\"predictions\")(x)\n",
    "\n",
    "\n",
    "model = tf.keras.Model(inputs, predictions)\n",
    "\n",
    "# Compile the model with binary crossentropy loss and an adam optimizer.\n",
    "model.compile(loss=\"binary_crossentropy\", optimizer=\"adam\", metrics=[\"binary_accuracy\"])"
   ]
  },
  {
   "cell_type": "code",
   "execution_count": 232,
   "id": "e76ba5bd-c41e-4b9f-9662-1115a1e3c14c",
   "metadata": {
    "tags": []
   },
   "outputs": [
    {
     "name": "stdout",
     "output_type": "stream",
     "text": [
      "Epoch 1/128\n",
      "254/254 [==============================] - 148s 578ms/step - loss: 0.6369 - binary_accuracy: 0.6571 - val_loss: 0.4808 - val_binary_accuracy: 0.7773\n",
      "Epoch 2/128\n",
      "254/254 [==============================] - 147s 580ms/step - loss: 0.4580 - binary_accuracy: 0.7829 - val_loss: 0.3947 - val_binary_accuracy: 0.8212\n",
      "Epoch 3/128\n",
      "254/254 [==============================] - 148s 581ms/step - loss: 0.4137 - binary_accuracy: 0.8091 - val_loss: 0.3779 - val_binary_accuracy: 0.8272\n",
      "Epoch 4/128\n",
      "254/254 [==============================] - 148s 584ms/step - loss: 0.3738 - binary_accuracy: 0.8300 - val_loss: 0.3684 - val_binary_accuracy: 0.8425\n",
      "Epoch 5/128\n",
      "254/254 [==============================] - 148s 583ms/step - loss: 0.3566 - binary_accuracy: 0.8457 - val_loss: 0.3182 - val_binary_accuracy: 0.8642\n",
      "Epoch 6/128\n",
      "254/254 [==============================] - 148s 583ms/step - loss: 0.3310 - binary_accuracy: 0.8584 - val_loss: 0.3264 - val_binary_accuracy: 0.8612\n",
      "Epoch 7/128\n",
      "254/254 [==============================] - 148s 584ms/step - loss: 0.3135 - binary_accuracy: 0.8686 - val_loss: 0.2781 - val_binary_accuracy: 0.8835\n",
      "Epoch 8/128\n",
      "254/254 [==============================] - 148s 584ms/step - loss: 0.2945 - binary_accuracy: 0.8758 - val_loss: 0.2830 - val_binary_accuracy: 0.8790\n",
      "Epoch 9/128\n",
      "254/254 [==============================] - 148s 583ms/step - loss: 0.2931 - binary_accuracy: 0.8780 - val_loss: 0.2649 - val_binary_accuracy: 0.8914\n",
      "Epoch 10/128\n",
      "254/254 [==============================] - 148s 582ms/step - loss: 0.2781 - binary_accuracy: 0.8828 - val_loss: 0.2668 - val_binary_accuracy: 0.8914\n",
      "Epoch 11/128\n",
      "254/254 [==============================] - 148s 582ms/step - loss: 0.2697 - binary_accuracy: 0.8889 - val_loss: 0.2844 - val_binary_accuracy: 0.8800\n",
      "Epoch 12/128\n",
      "254/254 [==============================] - 148s 582ms/step - loss: 0.2600 - binary_accuracy: 0.8954 - val_loss: 0.2494 - val_binary_accuracy: 0.8919\n",
      "Epoch 13/128\n",
      "254/254 [==============================] - 148s 583ms/step - loss: 0.2474 - binary_accuracy: 0.8963 - val_loss: 0.2517 - val_binary_accuracy: 0.8943\n",
      "Epoch 14/128\n",
      "254/254 [==============================] - 149s 586ms/step - loss: 0.2409 - binary_accuracy: 0.9005 - val_loss: 0.2382 - val_binary_accuracy: 0.9047\n",
      "Epoch 15/128\n",
      "254/254 [==============================] - 152s 598ms/step - loss: 0.2224 - binary_accuracy: 0.9095 - val_loss: 0.2428 - val_binary_accuracy: 0.9067\n",
      "Epoch 16/128\n",
      "254/254 [==============================] - 153s 603ms/step - loss: 0.2174 - binary_accuracy: 0.9127 - val_loss: 0.2414 - val_binary_accuracy: 0.9007\n",
      "Epoch 17/128\n",
      "254/254 [==============================] - 154s 607ms/step - loss: 0.2193 - binary_accuracy: 0.9118 - val_loss: 0.2296 - val_binary_accuracy: 0.9091\n",
      "Epoch 18/128\n",
      "254/254 [==============================] - 154s 605ms/step - loss: 0.2063 - binary_accuracy: 0.9163 - val_loss: 0.2274 - val_binary_accuracy: 0.9126\n",
      "Epoch 19/128\n",
      "254/254 [==============================] - 149s 586ms/step - loss: 0.2022 - binary_accuracy: 0.9174 - val_loss: 0.2230 - val_binary_accuracy: 0.9141\n",
      "Epoch 20/128\n",
      "254/254 [==============================] - 147s 581ms/step - loss: 0.1916 - binary_accuracy: 0.9216 - val_loss: 0.2267 - val_binary_accuracy: 0.9126\n",
      "Epoch 21/128\n",
      "254/254 [==============================] - 148s 582ms/step - loss: 0.1774 - binary_accuracy: 0.9285 - val_loss: 0.2443 - val_binary_accuracy: 0.9077\n",
      "Epoch 22/128\n",
      "254/254 [==============================] - 148s 584ms/step - loss: 0.1851 - binary_accuracy: 0.9257 - val_loss: 0.2223 - val_binary_accuracy: 0.9215\n",
      "Epoch 23/128\n",
      "254/254 [==============================] - 148s 583ms/step - loss: 0.1796 - binary_accuracy: 0.9291 - val_loss: 0.2235 - val_binary_accuracy: 0.9205\n",
      "Epoch 24/128\n",
      "254/254 [==============================] - 148s 583ms/step - loss: 0.1732 - binary_accuracy: 0.9286 - val_loss: 0.2218 - val_binary_accuracy: 0.9190\n",
      "Epoch 25/128\n",
      "254/254 [==============================] - 148s 582ms/step - loss: 0.1556 - binary_accuracy: 0.9357 - val_loss: 0.2438 - val_binary_accuracy: 0.9205\n",
      "Epoch 26/128\n",
      "254/254 [==============================] - 151s 593ms/step - loss: 0.1551 - binary_accuracy: 0.9411 - val_loss: 0.2580 - val_binary_accuracy: 0.9180\n",
      "Epoch 27/128\n",
      "254/254 [==============================] - 152s 600ms/step - loss: 0.1528 - binary_accuracy: 0.9406 - val_loss: 0.2393 - val_binary_accuracy: 0.9240\n",
      "Epoch 28/128\n",
      "254/254 [==============================] - 154s 605ms/step - loss: 0.1436 - binary_accuracy: 0.9462 - val_loss: 0.2494 - val_binary_accuracy: 0.9175\n",
      "Epoch 29/128\n",
      "254/254 [==============================] - 153s 604ms/step - loss: 0.1368 - binary_accuracy: 0.9442 - val_loss: 0.2572 - val_binary_accuracy: 0.9235\n",
      "Epoch 30/128\n",
      "254/254 [==============================] - 152s 597ms/step - loss: 0.1256 - binary_accuracy: 0.9479 - val_loss: 0.2610 - val_binary_accuracy: 0.9210\n",
      "Epoch 31/128\n",
      "254/254 [==============================] - 147s 581ms/step - loss: 0.1363 - binary_accuracy: 0.9460 - val_loss: 0.2501 - val_binary_accuracy: 0.9220\n",
      "Epoch 32/128\n",
      "254/254 [==============================] - 147s 580ms/step - loss: 0.1372 - binary_accuracy: 0.9478 - val_loss: 0.3373 - val_binary_accuracy: 0.9017\n",
      "Epoch 33/128\n",
      "254/254 [==============================] - 147s 579ms/step - loss: 0.1236 - binary_accuracy: 0.9525 - val_loss: 0.3070 - val_binary_accuracy: 0.9225\n",
      "Epoch 34/128\n",
      "254/254 [==============================] - 147s 580ms/step - loss: 0.1332 - binary_accuracy: 0.9509 - val_loss: 0.2512 - val_binary_accuracy: 0.9220\n",
      "Epoch 35/128\n",
      "254/254 [==============================] - 148s 582ms/step - loss: 0.1329 - binary_accuracy: 0.9485 - val_loss: 0.2579 - val_binary_accuracy: 0.9215\n",
      "Epoch 36/128\n",
      "254/254 [==============================] - 147s 580ms/step - loss: 0.1131 - binary_accuracy: 0.9569 - val_loss: 0.2660 - val_binary_accuracy: 0.9309\n",
      "Epoch 37/128\n",
      "254/254 [==============================] - 147s 579ms/step - loss: 0.1069 - binary_accuracy: 0.9604 - val_loss: 0.2725 - val_binary_accuracy: 0.9225\n",
      "Epoch 38/128\n",
      "254/254 [==============================] - 147s 580ms/step - loss: 0.1093 - binary_accuracy: 0.9604 - val_loss: 0.2848 - val_binary_accuracy: 0.9210\n",
      "Epoch 39/128\n",
      "254/254 [==============================] - 147s 579ms/step - loss: 0.1091 - binary_accuracy: 0.9591 - val_loss: 0.3092 - val_binary_accuracy: 0.9190\n",
      "Epoch 40/128\n",
      "254/254 [==============================] - 148s 581ms/step - loss: 0.1070 - binary_accuracy: 0.9573 - val_loss: 0.2920 - val_binary_accuracy: 0.9185\n",
      "Epoch 41/128\n",
      "254/254 [==============================] - 147s 580ms/step - loss: 0.1088 - binary_accuracy: 0.9585 - val_loss: 0.3535 - val_binary_accuracy: 0.9180\n",
      "Epoch 42/128\n",
      "254/254 [==============================] - 147s 580ms/step - loss: 0.1109 - binary_accuracy: 0.9573 - val_loss: 0.2770 - val_binary_accuracy: 0.9210\n",
      "Epoch 43/128\n",
      "254/254 [==============================] - 147s 580ms/step - loss: 0.1044 - binary_accuracy: 0.9594 - val_loss: 0.3408 - val_binary_accuracy: 0.9146\n",
      "Epoch 44/128\n",
      "254/254 [==============================] - 147s 580ms/step - loss: 0.0976 - binary_accuracy: 0.9635 - val_loss: 0.3180 - val_binary_accuracy: 0.9205\n",
      "Epoch 45/128\n",
      "254/254 [==============================] - 148s 582ms/step - loss: 0.1007 - binary_accuracy: 0.9642 - val_loss: 0.2984 - val_binary_accuracy: 0.9195\n",
      "Epoch 46/128\n",
      "254/254 [==============================] - 147s 580ms/step - loss: 0.0955 - binary_accuracy: 0.9660 - val_loss: 0.3100 - val_binary_accuracy: 0.9205\n",
      "Epoch 47/128\n",
      "254/254 [==============================] - 147s 580ms/step - loss: 0.0968 - binary_accuracy: 0.9642 - val_loss: 0.3357 - val_binary_accuracy: 0.9220\n",
      "Epoch 48/128\n",
      "254/254 [==============================] - 147s 579ms/step - loss: 0.0872 - binary_accuracy: 0.9644 - val_loss: 0.3387 - val_binary_accuracy: 0.9244\n",
      "Epoch 49/128\n",
      "254/254 [==============================] - 147s 580ms/step - loss: 0.0971 - binary_accuracy: 0.9656 - val_loss: 0.3468 - val_binary_accuracy: 0.9205\n",
      "Epoch 50/128\n",
      "254/254 [==============================] - 148s 583ms/step - loss: 0.0783 - binary_accuracy: 0.9693 - val_loss: 0.3951 - val_binary_accuracy: 0.9249\n",
      "Epoch 51/128\n",
      "254/254 [==============================] - 147s 580ms/step - loss: 0.0937 - binary_accuracy: 0.9630 - val_loss: 0.3128 - val_binary_accuracy: 0.9264\n",
      "Epoch 52/128\n",
      "254/254 [==============================] - 147s 581ms/step - loss: 0.0983 - binary_accuracy: 0.9648 - val_loss: 0.3478 - val_binary_accuracy: 0.9235\n",
      "Epoch 53/128\n",
      "254/254 [==============================] - 150s 592ms/step - loss: 0.0825 - binary_accuracy: 0.9678 - val_loss: 0.3654 - val_binary_accuracy: 0.9190\n",
      "Epoch 54/128\n",
      "254/254 [==============================] - 153s 602ms/step - loss: 0.0823 - binary_accuracy: 0.9681 - val_loss: 0.3665 - val_binary_accuracy: 0.9264\n",
      "Epoch 55/128\n",
      "254/254 [==============================] - 153s 604ms/step - loss: 0.0820 - binary_accuracy: 0.9681 - val_loss: 0.4059 - val_binary_accuracy: 0.9215\n",
      "Epoch 56/128\n",
      "254/254 [==============================] - 153s 602ms/step - loss: 0.0705 - binary_accuracy: 0.9716 - val_loss: 0.3879 - val_binary_accuracy: 0.9269\n",
      "Epoch 57/128\n",
      "254/254 [==============================] - 152s 600ms/step - loss: 0.0783 - binary_accuracy: 0.9714 - val_loss: 0.4284 - val_binary_accuracy: 0.9259\n",
      "Epoch 58/128\n",
      "254/254 [==============================] - 149s 585ms/step - loss: 0.0827 - binary_accuracy: 0.9684 - val_loss: 0.4019 - val_binary_accuracy: 0.9210\n",
      "Epoch 59/128\n",
      "254/254 [==============================] - 147s 580ms/step - loss: 0.0891 - binary_accuracy: 0.9649 - val_loss: 0.4224 - val_binary_accuracy: 0.9141\n",
      "Epoch 60/128\n",
      "254/254 [==============================] - ETA: 0s - loss: 0.1229 - binary_accuracy: 0.9641"
     ]
    },
    {
     "ename": "KeyboardInterrupt",
     "evalue": "",
     "output_type": "error",
     "traceback": [
      "\u001b[0;31m---------------------------------------------------------------------------\u001b[0m",
      "\u001b[0;31mKeyboardInterrupt\u001b[0m                         Traceback (most recent call last)",
      "Cell \u001b[0;32mIn[232], line 6\u001b[0m\n\u001b[1;32m      1\u001b[0m epochs \u001b[38;5;241m=\u001b[39m \u001b[38;5;241m128\u001b[39m\n\u001b[1;32m      3\u001b[0m \u001b[38;5;66;03m# Fit the model using the train and test datasets.\u001b[39;00m\n\u001b[1;32m      4\u001b[0m \u001b[38;5;66;03m#model.fit([X_train, y_train], validation_data=[X_test, y_test], epochs=epochs)\u001b[39;00m\n\u001b[0;32m----> 6\u001b[0m history \u001b[38;5;241m=\u001b[39m \u001b[43mmodel\u001b[49m\u001b[38;5;241;43m.\u001b[39;49m\u001b[43mfit\u001b[49m\u001b[43m(\u001b[49m\u001b[43mX_train\u001b[49m\u001b[43m,\u001b[49m\u001b[43m \u001b[49m\u001b[43my_train\u001b[49m\u001b[43m,\u001b[49m\u001b[43m \u001b[49m\u001b[43mvalidation_data\u001b[49m\u001b[38;5;241;43m=\u001b[39;49m\u001b[43m(\u001b[49m\u001b[43mX_test\u001b[49m\u001b[43m,\u001b[49m\u001b[43m \u001b[49m\u001b[43my_test\u001b[49m\u001b[43m)\u001b[49m\u001b[43m,\u001b[49m\u001b[43m \u001b[49m\u001b[43mepochs\u001b[49m\u001b[38;5;241;43m=\u001b[39;49m\u001b[43mepochs\u001b[49m\u001b[43m)\u001b[49m\n",
      "File \u001b[0;32m~/.conda/envs/ai/lib/python3.9/site-packages/keras/utils/traceback_utils.py:65\u001b[0m, in \u001b[0;36mfilter_traceback.<locals>.error_handler\u001b[0;34m(*args, **kwargs)\u001b[0m\n\u001b[1;32m     63\u001b[0m filtered_tb \u001b[38;5;241m=\u001b[39m \u001b[38;5;28;01mNone\u001b[39;00m\n\u001b[1;32m     64\u001b[0m \u001b[38;5;28;01mtry\u001b[39;00m:\n\u001b[0;32m---> 65\u001b[0m     \u001b[38;5;28;01mreturn\u001b[39;00m \u001b[43mfn\u001b[49m\u001b[43m(\u001b[49m\u001b[38;5;241;43m*\u001b[39;49m\u001b[43margs\u001b[49m\u001b[43m,\u001b[49m\u001b[43m \u001b[49m\u001b[38;5;241;43m*\u001b[39;49m\u001b[38;5;241;43m*\u001b[39;49m\u001b[43mkwargs\u001b[49m\u001b[43m)\u001b[49m\n\u001b[1;32m     66\u001b[0m \u001b[38;5;28;01mexcept\u001b[39;00m \u001b[38;5;167;01mException\u001b[39;00m \u001b[38;5;28;01mas\u001b[39;00m e:\n\u001b[1;32m     67\u001b[0m     filtered_tb \u001b[38;5;241m=\u001b[39m _process_traceback_frames(e\u001b[38;5;241m.\u001b[39m__traceback__)\n",
      "File \u001b[0;32m~/.conda/envs/ai/lib/python3.9/site-packages/keras/engine/training.py:1729\u001b[0m, in \u001b[0;36mModel.fit\u001b[0;34m(self, x, y, batch_size, epochs, verbose, callbacks, validation_split, validation_data, shuffle, class_weight, sample_weight, initial_epoch, steps_per_epoch, validation_steps, validation_batch_size, validation_freq, max_queue_size, workers, use_multiprocessing)\u001b[0m\n\u001b[1;32m   1714\u001b[0m \u001b[38;5;28;01mif\u001b[39;00m \u001b[38;5;28mgetattr\u001b[39m(\u001b[38;5;28mself\u001b[39m, \u001b[38;5;124m\"\u001b[39m\u001b[38;5;124m_eval_data_handler\u001b[39m\u001b[38;5;124m\"\u001b[39m, \u001b[38;5;28;01mNone\u001b[39;00m) \u001b[38;5;129;01mis\u001b[39;00m \u001b[38;5;28;01mNone\u001b[39;00m:\n\u001b[1;32m   1715\u001b[0m     \u001b[38;5;28mself\u001b[39m\u001b[38;5;241m.\u001b[39m_eval_data_handler \u001b[38;5;241m=\u001b[39m data_adapter\u001b[38;5;241m.\u001b[39mget_data_handler(\n\u001b[1;32m   1716\u001b[0m         x\u001b[38;5;241m=\u001b[39mval_x,\n\u001b[1;32m   1717\u001b[0m         y\u001b[38;5;241m=\u001b[39mval_y,\n\u001b[0;32m   (...)\u001b[0m\n\u001b[1;32m   1727\u001b[0m         steps_per_execution\u001b[38;5;241m=\u001b[39m\u001b[38;5;28mself\u001b[39m\u001b[38;5;241m.\u001b[39m_steps_per_execution,\n\u001b[1;32m   1728\u001b[0m     )\n\u001b[0;32m-> 1729\u001b[0m val_logs \u001b[38;5;241m=\u001b[39m \u001b[38;5;28;43mself\u001b[39;49m\u001b[38;5;241;43m.\u001b[39;49m\u001b[43mevaluate\u001b[49m\u001b[43m(\u001b[49m\n\u001b[1;32m   1730\u001b[0m \u001b[43m    \u001b[49m\u001b[43mx\u001b[49m\u001b[38;5;241;43m=\u001b[39;49m\u001b[43mval_x\u001b[49m\u001b[43m,\u001b[49m\n\u001b[1;32m   1731\u001b[0m \u001b[43m    \u001b[49m\u001b[43my\u001b[49m\u001b[38;5;241;43m=\u001b[39;49m\u001b[43mval_y\u001b[49m\u001b[43m,\u001b[49m\n\u001b[1;32m   1732\u001b[0m \u001b[43m    \u001b[49m\u001b[43msample_weight\u001b[49m\u001b[38;5;241;43m=\u001b[39;49m\u001b[43mval_sample_weight\u001b[49m\u001b[43m,\u001b[49m\n\u001b[1;32m   1733\u001b[0m \u001b[43m    \u001b[49m\u001b[43mbatch_size\u001b[49m\u001b[38;5;241;43m=\u001b[39;49m\u001b[43mvalidation_batch_size\u001b[49m\u001b[43m \u001b[49m\u001b[38;5;129;43;01mor\u001b[39;49;00m\u001b[43m \u001b[49m\u001b[43mbatch_size\u001b[49m\u001b[43m,\u001b[49m\n\u001b[1;32m   1734\u001b[0m \u001b[43m    \u001b[49m\u001b[43msteps\u001b[49m\u001b[38;5;241;43m=\u001b[39;49m\u001b[43mvalidation_steps\u001b[49m\u001b[43m,\u001b[49m\n\u001b[1;32m   1735\u001b[0m \u001b[43m    \u001b[49m\u001b[43mcallbacks\u001b[49m\u001b[38;5;241;43m=\u001b[39;49m\u001b[43mcallbacks\u001b[49m\u001b[43m,\u001b[49m\n\u001b[1;32m   1736\u001b[0m \u001b[43m    \u001b[49m\u001b[43mmax_queue_size\u001b[49m\u001b[38;5;241;43m=\u001b[39;49m\u001b[43mmax_queue_size\u001b[49m\u001b[43m,\u001b[49m\n\u001b[1;32m   1737\u001b[0m \u001b[43m    \u001b[49m\u001b[43mworkers\u001b[49m\u001b[38;5;241;43m=\u001b[39;49m\u001b[43mworkers\u001b[49m\u001b[43m,\u001b[49m\n\u001b[1;32m   1738\u001b[0m \u001b[43m    \u001b[49m\u001b[43muse_multiprocessing\u001b[49m\u001b[38;5;241;43m=\u001b[39;49m\u001b[43muse_multiprocessing\u001b[49m\u001b[43m,\u001b[49m\n\u001b[1;32m   1739\u001b[0m \u001b[43m    \u001b[49m\u001b[43mreturn_dict\u001b[49m\u001b[38;5;241;43m=\u001b[39;49m\u001b[38;5;28;43;01mTrue\u001b[39;49;00m\u001b[43m,\u001b[49m\n\u001b[1;32m   1740\u001b[0m \u001b[43m    \u001b[49m\u001b[43m_use_cached_eval_dataset\u001b[49m\u001b[38;5;241;43m=\u001b[39;49m\u001b[38;5;28;43;01mTrue\u001b[39;49;00m\u001b[43m,\u001b[49m\n\u001b[1;32m   1741\u001b[0m \u001b[43m\u001b[49m\u001b[43m)\u001b[49m\n\u001b[1;32m   1742\u001b[0m val_logs \u001b[38;5;241m=\u001b[39m {\n\u001b[1;32m   1743\u001b[0m     \u001b[38;5;124m\"\u001b[39m\u001b[38;5;124mval_\u001b[39m\u001b[38;5;124m\"\u001b[39m \u001b[38;5;241m+\u001b[39m name: val \u001b[38;5;28;01mfor\u001b[39;00m name, val \u001b[38;5;129;01min\u001b[39;00m val_logs\u001b[38;5;241m.\u001b[39mitems()\n\u001b[1;32m   1744\u001b[0m }\n\u001b[1;32m   1745\u001b[0m epoch_logs\u001b[38;5;241m.\u001b[39mupdate(val_logs)\n",
      "File \u001b[0;32m~/.conda/envs/ai/lib/python3.9/site-packages/keras/utils/traceback_utils.py:65\u001b[0m, in \u001b[0;36mfilter_traceback.<locals>.error_handler\u001b[0;34m(*args, **kwargs)\u001b[0m\n\u001b[1;32m     63\u001b[0m filtered_tb \u001b[38;5;241m=\u001b[39m \u001b[38;5;28;01mNone\u001b[39;00m\n\u001b[1;32m     64\u001b[0m \u001b[38;5;28;01mtry\u001b[39;00m:\n\u001b[0;32m---> 65\u001b[0m     \u001b[38;5;28;01mreturn\u001b[39;00m \u001b[43mfn\u001b[49m\u001b[43m(\u001b[49m\u001b[38;5;241;43m*\u001b[39;49m\u001b[43margs\u001b[49m\u001b[43m,\u001b[49m\u001b[43m \u001b[49m\u001b[38;5;241;43m*\u001b[39;49m\u001b[38;5;241;43m*\u001b[39;49m\u001b[43mkwargs\u001b[49m\u001b[43m)\u001b[49m\n\u001b[1;32m     66\u001b[0m \u001b[38;5;28;01mexcept\u001b[39;00m \u001b[38;5;167;01mException\u001b[39;00m \u001b[38;5;28;01mas\u001b[39;00m e:\n\u001b[1;32m     67\u001b[0m     filtered_tb \u001b[38;5;241m=\u001b[39m _process_traceback_frames(e\u001b[38;5;241m.\u001b[39m__traceback__)\n",
      "File \u001b[0;32m~/.conda/envs/ai/lib/python3.9/site-packages/keras/engine/training.py:2072\u001b[0m, in \u001b[0;36mModel.evaluate\u001b[0;34m(self, x, y, batch_size, verbose, sample_weight, steps, callbacks, max_queue_size, workers, use_multiprocessing, return_dict, **kwargs)\u001b[0m\n\u001b[1;32m   2068\u001b[0m \u001b[38;5;28;01mwith\u001b[39;00m tf\u001b[38;5;241m.\u001b[39mprofiler\u001b[38;5;241m.\u001b[39mexperimental\u001b[38;5;241m.\u001b[39mTrace(\n\u001b[1;32m   2069\u001b[0m     \u001b[38;5;124m\"\u001b[39m\u001b[38;5;124mtest\u001b[39m\u001b[38;5;124m\"\u001b[39m, step_num\u001b[38;5;241m=\u001b[39mstep, _r\u001b[38;5;241m=\u001b[39m\u001b[38;5;241m1\u001b[39m\n\u001b[1;32m   2070\u001b[0m ):\n\u001b[1;32m   2071\u001b[0m     callbacks\u001b[38;5;241m.\u001b[39mon_test_batch_begin(step)\n\u001b[0;32m-> 2072\u001b[0m     tmp_logs \u001b[38;5;241m=\u001b[39m \u001b[38;5;28;43mself\u001b[39;49m\u001b[38;5;241;43m.\u001b[39;49m\u001b[43mtest_function\u001b[49m\u001b[43m(\u001b[49m\u001b[43miterator\u001b[49m\u001b[43m)\u001b[49m\n\u001b[1;32m   2073\u001b[0m     \u001b[38;5;28;01mif\u001b[39;00m data_handler\u001b[38;5;241m.\u001b[39mshould_sync:\n\u001b[1;32m   2074\u001b[0m         context\u001b[38;5;241m.\u001b[39masync_wait()\n",
      "File \u001b[0;32m~/.conda/envs/ai/lib/python3.9/site-packages/tensorflow/python/util/traceback_utils.py:150\u001b[0m, in \u001b[0;36mfilter_traceback.<locals>.error_handler\u001b[0;34m(*args, **kwargs)\u001b[0m\n\u001b[1;32m    148\u001b[0m filtered_tb \u001b[38;5;241m=\u001b[39m \u001b[38;5;28;01mNone\u001b[39;00m\n\u001b[1;32m    149\u001b[0m \u001b[38;5;28;01mtry\u001b[39;00m:\n\u001b[0;32m--> 150\u001b[0m   \u001b[38;5;28;01mreturn\u001b[39;00m \u001b[43mfn\u001b[49m\u001b[43m(\u001b[49m\u001b[38;5;241;43m*\u001b[39;49m\u001b[43margs\u001b[49m\u001b[43m,\u001b[49m\u001b[43m \u001b[49m\u001b[38;5;241;43m*\u001b[39;49m\u001b[38;5;241;43m*\u001b[39;49m\u001b[43mkwargs\u001b[49m\u001b[43m)\u001b[49m\n\u001b[1;32m    151\u001b[0m \u001b[38;5;28;01mexcept\u001b[39;00m \u001b[38;5;167;01mException\u001b[39;00m \u001b[38;5;28;01mas\u001b[39;00m e:\n\u001b[1;32m    152\u001b[0m   filtered_tb \u001b[38;5;241m=\u001b[39m _process_traceback_frames(e\u001b[38;5;241m.\u001b[39m__traceback__)\n",
      "File \u001b[0;32m~/.conda/envs/ai/lib/python3.9/site-packages/tensorflow/python/eager/polymorphic_function/polymorphic_function.py:894\u001b[0m, in \u001b[0;36mFunction.__call__\u001b[0;34m(self, *args, **kwds)\u001b[0m\n\u001b[1;32m    891\u001b[0m compiler \u001b[38;5;241m=\u001b[39m \u001b[38;5;124m\"\u001b[39m\u001b[38;5;124mxla\u001b[39m\u001b[38;5;124m\"\u001b[39m \u001b[38;5;28;01mif\u001b[39;00m \u001b[38;5;28mself\u001b[39m\u001b[38;5;241m.\u001b[39m_jit_compile \u001b[38;5;28;01melse\u001b[39;00m \u001b[38;5;124m\"\u001b[39m\u001b[38;5;124mnonXla\u001b[39m\u001b[38;5;124m\"\u001b[39m\n\u001b[1;32m    893\u001b[0m \u001b[38;5;28;01mwith\u001b[39;00m OptionalXlaContext(\u001b[38;5;28mself\u001b[39m\u001b[38;5;241m.\u001b[39m_jit_compile):\n\u001b[0;32m--> 894\u001b[0m   result \u001b[38;5;241m=\u001b[39m \u001b[38;5;28;43mself\u001b[39;49m\u001b[38;5;241;43m.\u001b[39;49m\u001b[43m_call\u001b[49m\u001b[43m(\u001b[49m\u001b[38;5;241;43m*\u001b[39;49m\u001b[43margs\u001b[49m\u001b[43m,\u001b[49m\u001b[43m \u001b[49m\u001b[38;5;241;43m*\u001b[39;49m\u001b[38;5;241;43m*\u001b[39;49m\u001b[43mkwds\u001b[49m\u001b[43m)\u001b[49m\n\u001b[1;32m    896\u001b[0m new_tracing_count \u001b[38;5;241m=\u001b[39m \u001b[38;5;28mself\u001b[39m\u001b[38;5;241m.\u001b[39mexperimental_get_tracing_count()\n\u001b[1;32m    897\u001b[0m without_tracing \u001b[38;5;241m=\u001b[39m (tracing_count \u001b[38;5;241m==\u001b[39m new_tracing_count)\n",
      "File \u001b[0;32m~/.conda/envs/ai/lib/python3.9/site-packages/tensorflow/python/eager/polymorphic_function/polymorphic_function.py:933\u001b[0m, in \u001b[0;36mFunction._call\u001b[0;34m(self, *args, **kwds)\u001b[0m\n\u001b[1;32m    930\u001b[0m \u001b[38;5;28mself\u001b[39m\u001b[38;5;241m.\u001b[39m_lock\u001b[38;5;241m.\u001b[39mrelease()\n\u001b[1;32m    931\u001b[0m \u001b[38;5;66;03m# In this case we have not created variables on the first call. So we can\u001b[39;00m\n\u001b[1;32m    932\u001b[0m \u001b[38;5;66;03m# run the first trace but we should fail if variables are created.\u001b[39;00m\n\u001b[0;32m--> 933\u001b[0m results \u001b[38;5;241m=\u001b[39m \u001b[38;5;28;43mself\u001b[39;49m\u001b[38;5;241;43m.\u001b[39;49m\u001b[43m_variable_creation_fn\u001b[49m\u001b[43m(\u001b[49m\u001b[38;5;241;43m*\u001b[39;49m\u001b[43margs\u001b[49m\u001b[43m,\u001b[49m\u001b[43m \u001b[49m\u001b[38;5;241;43m*\u001b[39;49m\u001b[38;5;241;43m*\u001b[39;49m\u001b[43mkwds\u001b[49m\u001b[43m)\u001b[49m\n\u001b[1;32m    934\u001b[0m \u001b[38;5;28;01mif\u001b[39;00m \u001b[38;5;28mself\u001b[39m\u001b[38;5;241m.\u001b[39m_created_variables \u001b[38;5;129;01mand\u001b[39;00m \u001b[38;5;129;01mnot\u001b[39;00m ALLOW_DYNAMIC_VARIABLE_CREATION:\n\u001b[1;32m    935\u001b[0m   \u001b[38;5;28;01mraise\u001b[39;00m \u001b[38;5;167;01mValueError\u001b[39;00m(\u001b[38;5;124m\"\u001b[39m\u001b[38;5;124mCreating variables on a non-first call to a function\u001b[39m\u001b[38;5;124m\"\u001b[39m\n\u001b[1;32m    936\u001b[0m                    \u001b[38;5;124m\"\u001b[39m\u001b[38;5;124m decorated with tf.function.\u001b[39m\u001b[38;5;124m\"\u001b[39m)\n",
      "File \u001b[0;32m~/.conda/envs/ai/lib/python3.9/site-packages/tensorflow/python/eager/polymorphic_function/tracing_compiler.py:143\u001b[0m, in \u001b[0;36mTracingCompiler.__call__\u001b[0;34m(self, *args, **kwargs)\u001b[0m\n\u001b[1;32m    140\u001b[0m \u001b[38;5;28;01mwith\u001b[39;00m \u001b[38;5;28mself\u001b[39m\u001b[38;5;241m.\u001b[39m_lock:\n\u001b[1;32m    141\u001b[0m   (concrete_function,\n\u001b[1;32m    142\u001b[0m    filtered_flat_args) \u001b[38;5;241m=\u001b[39m \u001b[38;5;28mself\u001b[39m\u001b[38;5;241m.\u001b[39m_maybe_define_function(args, kwargs)\n\u001b[0;32m--> 143\u001b[0m \u001b[38;5;28;01mreturn\u001b[39;00m \u001b[43mconcrete_function\u001b[49m\u001b[38;5;241;43m.\u001b[39;49m\u001b[43m_call_flat\u001b[49m\u001b[43m(\u001b[49m\n\u001b[1;32m    144\u001b[0m \u001b[43m    \u001b[49m\u001b[43mfiltered_flat_args\u001b[49m\u001b[43m,\u001b[49m\u001b[43m \u001b[49m\u001b[43mcaptured_inputs\u001b[49m\u001b[38;5;241;43m=\u001b[39;49m\u001b[43mconcrete_function\u001b[49m\u001b[38;5;241;43m.\u001b[39;49m\u001b[43mcaptured_inputs\u001b[49m\u001b[43m)\u001b[49m\n",
      "File \u001b[0;32m~/.conda/envs/ai/lib/python3.9/site-packages/tensorflow/python/eager/polymorphic_function/monomorphic_function.py:1757\u001b[0m, in \u001b[0;36mConcreteFunction._call_flat\u001b[0;34m(self, args, captured_inputs, cancellation_manager)\u001b[0m\n\u001b[1;32m   1753\u001b[0m possible_gradient_type \u001b[38;5;241m=\u001b[39m gradients_util\u001b[38;5;241m.\u001b[39mPossibleTapeGradientTypes(args)\n\u001b[1;32m   1754\u001b[0m \u001b[38;5;28;01mif\u001b[39;00m (possible_gradient_type \u001b[38;5;241m==\u001b[39m gradients_util\u001b[38;5;241m.\u001b[39mPOSSIBLE_GRADIENT_TYPES_NONE\n\u001b[1;32m   1755\u001b[0m     \u001b[38;5;129;01mand\u001b[39;00m executing_eagerly):\n\u001b[1;32m   1756\u001b[0m   \u001b[38;5;66;03m# No tape is watching; skip to running the function.\u001b[39;00m\n\u001b[0;32m-> 1757\u001b[0m   \u001b[38;5;28;01mreturn\u001b[39;00m \u001b[38;5;28mself\u001b[39m\u001b[38;5;241m.\u001b[39m_build_call_outputs(\u001b[38;5;28;43mself\u001b[39;49m\u001b[38;5;241;43m.\u001b[39;49m\u001b[43m_inference_function\u001b[49m\u001b[38;5;241;43m.\u001b[39;49m\u001b[43mcall\u001b[49m\u001b[43m(\u001b[49m\n\u001b[1;32m   1758\u001b[0m \u001b[43m      \u001b[49m\u001b[43mctx\u001b[49m\u001b[43m,\u001b[49m\u001b[43m \u001b[49m\u001b[43margs\u001b[49m\u001b[43m,\u001b[49m\u001b[43m \u001b[49m\u001b[43mcancellation_manager\u001b[49m\u001b[38;5;241;43m=\u001b[39;49m\u001b[43mcancellation_manager\u001b[49m\u001b[43m)\u001b[49m)\n\u001b[1;32m   1759\u001b[0m forward_backward \u001b[38;5;241m=\u001b[39m \u001b[38;5;28mself\u001b[39m\u001b[38;5;241m.\u001b[39m_select_forward_and_backward_functions(\n\u001b[1;32m   1760\u001b[0m     args,\n\u001b[1;32m   1761\u001b[0m     possible_gradient_type,\n\u001b[1;32m   1762\u001b[0m     executing_eagerly)\n\u001b[1;32m   1763\u001b[0m forward_function, args_with_tangents \u001b[38;5;241m=\u001b[39m forward_backward\u001b[38;5;241m.\u001b[39mforward()\n",
      "File \u001b[0;32m~/.conda/envs/ai/lib/python3.9/site-packages/tensorflow/python/eager/polymorphic_function/monomorphic_function.py:381\u001b[0m, in \u001b[0;36m_EagerDefinedFunction.call\u001b[0;34m(self, ctx, args, cancellation_manager)\u001b[0m\n\u001b[1;32m    379\u001b[0m \u001b[38;5;28;01mwith\u001b[39;00m _InterpolateFunctionError(\u001b[38;5;28mself\u001b[39m):\n\u001b[1;32m    380\u001b[0m   \u001b[38;5;28;01mif\u001b[39;00m cancellation_manager \u001b[38;5;129;01mis\u001b[39;00m \u001b[38;5;28;01mNone\u001b[39;00m:\n\u001b[0;32m--> 381\u001b[0m     outputs \u001b[38;5;241m=\u001b[39m \u001b[43mexecute\u001b[49m\u001b[38;5;241;43m.\u001b[39;49m\u001b[43mexecute\u001b[49m\u001b[43m(\u001b[49m\n\u001b[1;32m    382\u001b[0m \u001b[43m        \u001b[49m\u001b[38;5;28;43mstr\u001b[39;49m\u001b[43m(\u001b[49m\u001b[38;5;28;43mself\u001b[39;49m\u001b[38;5;241;43m.\u001b[39;49m\u001b[43msignature\u001b[49m\u001b[38;5;241;43m.\u001b[39;49m\u001b[43mname\u001b[49m\u001b[43m)\u001b[49m\u001b[43m,\u001b[49m\n\u001b[1;32m    383\u001b[0m \u001b[43m        \u001b[49m\u001b[43mnum_outputs\u001b[49m\u001b[38;5;241;43m=\u001b[39;49m\u001b[38;5;28;43mself\u001b[39;49m\u001b[38;5;241;43m.\u001b[39;49m\u001b[43m_num_outputs\u001b[49m\u001b[43m,\u001b[49m\n\u001b[1;32m    384\u001b[0m \u001b[43m        \u001b[49m\u001b[43minputs\u001b[49m\u001b[38;5;241;43m=\u001b[39;49m\u001b[43margs\u001b[49m\u001b[43m,\u001b[49m\n\u001b[1;32m    385\u001b[0m \u001b[43m        \u001b[49m\u001b[43mattrs\u001b[49m\u001b[38;5;241;43m=\u001b[39;49m\u001b[43mattrs\u001b[49m\u001b[43m,\u001b[49m\n\u001b[1;32m    386\u001b[0m \u001b[43m        \u001b[49m\u001b[43mctx\u001b[49m\u001b[38;5;241;43m=\u001b[39;49m\u001b[43mctx\u001b[49m\u001b[43m)\u001b[49m\n\u001b[1;32m    387\u001b[0m   \u001b[38;5;28;01melse\u001b[39;00m:\n\u001b[1;32m    388\u001b[0m     outputs \u001b[38;5;241m=\u001b[39m execute\u001b[38;5;241m.\u001b[39mexecute_with_cancellation(\n\u001b[1;32m    389\u001b[0m         \u001b[38;5;28mstr\u001b[39m(\u001b[38;5;28mself\u001b[39m\u001b[38;5;241m.\u001b[39msignature\u001b[38;5;241m.\u001b[39mname),\n\u001b[1;32m    390\u001b[0m         num_outputs\u001b[38;5;241m=\u001b[39m\u001b[38;5;28mself\u001b[39m\u001b[38;5;241m.\u001b[39m_num_outputs,\n\u001b[0;32m   (...)\u001b[0m\n\u001b[1;32m    393\u001b[0m         ctx\u001b[38;5;241m=\u001b[39mctx,\n\u001b[1;32m    394\u001b[0m         cancellation_manager\u001b[38;5;241m=\u001b[39mcancellation_manager)\n",
      "File \u001b[0;32m~/.conda/envs/ai/lib/python3.9/site-packages/tensorflow/python/eager/execute.py:52\u001b[0m, in \u001b[0;36mquick_execute\u001b[0;34m(op_name, num_outputs, inputs, attrs, ctx, name)\u001b[0m\n\u001b[1;32m     50\u001b[0m \u001b[38;5;28;01mtry\u001b[39;00m:\n\u001b[1;32m     51\u001b[0m   ctx\u001b[38;5;241m.\u001b[39mensure_initialized()\n\u001b[0;32m---> 52\u001b[0m   tensors \u001b[38;5;241m=\u001b[39m \u001b[43mpywrap_tfe\u001b[49m\u001b[38;5;241;43m.\u001b[39;49m\u001b[43mTFE_Py_Execute\u001b[49m\u001b[43m(\u001b[49m\u001b[43mctx\u001b[49m\u001b[38;5;241;43m.\u001b[39;49m\u001b[43m_handle\u001b[49m\u001b[43m,\u001b[49m\u001b[43m \u001b[49m\u001b[43mdevice_name\u001b[49m\u001b[43m,\u001b[49m\u001b[43m \u001b[49m\u001b[43mop_name\u001b[49m\u001b[43m,\u001b[49m\n\u001b[1;32m     53\u001b[0m \u001b[43m                                      \u001b[49m\u001b[43minputs\u001b[49m\u001b[43m,\u001b[49m\u001b[43m \u001b[49m\u001b[43mattrs\u001b[49m\u001b[43m,\u001b[49m\u001b[43m \u001b[49m\u001b[43mnum_outputs\u001b[49m\u001b[43m)\u001b[49m\n\u001b[1;32m     54\u001b[0m \u001b[38;5;28;01mexcept\u001b[39;00m core\u001b[38;5;241m.\u001b[39m_NotOkStatusException \u001b[38;5;28;01mas\u001b[39;00m e:\n\u001b[1;32m     55\u001b[0m   \u001b[38;5;28;01mif\u001b[39;00m name \u001b[38;5;129;01mis\u001b[39;00m \u001b[38;5;129;01mnot\u001b[39;00m \u001b[38;5;28;01mNone\u001b[39;00m:\n",
      "\u001b[0;31mKeyboardInterrupt\u001b[0m: "
     ]
    }
   ],
   "source": [
    "epochs = 128\n",
    "\n",
    "# Fit the model using the train and test datasets.\n",
    "#model.fit([X_train, y_train], validation_data=[X_test, y_test], epochs=epochs)\n",
    "\n",
    "history = model.fit(X_train, y_train, validation_data=(X_test, y_test), epochs=epochs)"
   ]
  },
  {
   "cell_type": "code",
   "execution_count": null,
   "id": "2b9a2d58-e2e8-42e7-a71a-85460ab634c4",
   "metadata": {
    "editable": true,
    "slideshow": {
     "slide_type": ""
    },
    "tags": []
   },
   "outputs": [],
   "source": [
    "# Test on my gmail inbox\n",
    "def create_vectors_from_messages(messages, messagesPreprocessed):\n",
    "    corpus = [dictionary.doc2bow(text) for text in messagesPreprocessed] # Term document frequency\n",
    "    allPreprocessed = messagesPreprocessed\n",
    "    allBodies = messages\n",
    "    allVectors = []\n",
    "    for i in range(len(allBodies)):\n",
    "        topTopics = ldaModel.get_document_topics(corpus[i], minimum_probability=0.0)\n",
    "        \n",
    "        # Can extend this array with other stuff later\n",
    "        vec = [topTopics[i][1] for i in range(numTopics)] # Topics\n",
    "    \n",
    "        for v in doc2VecModel.infer_vector(allPreprocessed[i]): # Doc2Vec\n",
    "            vec.append(v)\n",
    "    \n",
    "        # Sentiment analysis of polarity\n",
    "        sia = SentimentIntensityAnalyzer()\n",
    "        sentence = \" \".join(allPreprocessed[i])\n",
    "        polarity = sia.polarity_scores(sentence)\n",
    "        for s in polarity:\n",
    "            vec.append(polarity[s])\n",
    "    \n",
    "        # Contains HTML\n",
    "        if \"<html>\" in allBodies[i].lower():\n",
    "            vec.append(1)\n",
    "        else:\n",
    "            vec.append(0)\n",
    "    \n",
    "        # Contains a link\n",
    "        if \"http://\" in allBodies[i].lower() or \"https://\" in allBodies[i].lower():\n",
    "            vec.append(1)\n",
    "        else:\n",
    "            vec.append(0)\n",
    "    \n",
    "        # How many blacklisted phrases/words appear in this email\n",
    "        for b in blackList:\n",
    "            count = 0\n",
    "            for word in b:\n",
    "                if word in allPreprocessed[i]:\n",
    "                    count += 1\n",
    "            vec.append(count)\n",
    "    \n",
    "        # TF-IDF for top terms\n",
    "        for w in tfIDF[i]:\n",
    "            vec.append(w)\n",
    "    \n",
    "        # Has all caps word?\n",
    "        vec.append(count_all_upper_word(allBodies[i]))\n",
    "    \n",
    "        # Has exclamation marks?\n",
    "        vec.append(allBodies[i].count(\"!\"))\n",
    "    \n",
    "        # Total length\n",
    "        vec.append(len(allBodies[i]))\n",
    "    \n",
    "        # Num words\n",
    "        vec.append(len(allPreprocessed[i]))\n",
    "        \n",
    "        allVectors.append(vec)\n",
    "\n",
    "    return allVectors\n",
    "\n",
    "#box = mailbox.mbox(\"../datasets/monkey/phishing1.mbox\")\n",
    "box = mailbox.mbox(\"benign.mbox\")\n",
    "boxMessages = [m[1] for m in box.items()]\n",
    "    \n",
    "messages = []\n",
    "for p in boxMessages:\n",
    "    body = get_body_from_email(p)\n",
    "    if body is not None and len(body) > 0:\n",
    "        messages.append(body)\n",
    "\n",
    "messagesDecoded = []\n",
    "for m in messages:\n",
    "    try:\n",
    "        d = m.decode(\"utf-8\", errors=\"ignore\")\n",
    "    except AttributeError:\n",
    "        d = m\n",
    "    messagesDecoded.append(d)\n",
    "messages = messagesDecoded\n",
    "\n",
    "# Apply preprocessing function to emails\n",
    "messagesPreprocessed = []\n",
    "for b in messages:\n",
    "    p = preprocess_string(b, filters=CUSTOM_FILTERS)\n",
    "    \n",
    "    messagesPreprocessed.append(p)\n",
    "\n",
    "allVectorsTest = create_vectors_from_messages(messages, messagesPreprocessed)\n",
    "print(\"Shape of messages: {}\".format(np.array(allVectorsTest).shape))\n",
    "\n",
    "# RFC Prediction\n",
    "#scaler = StandardScaler()\n",
    "#scaler.fit(allVectors)\n",
    "X = scaler.transform(allVectorsTest)\n",
    "#y_pred = rf.predict(X)\n",
    "y_pred = model.predict(X)"
   ]
  },
  {
   "cell_type": "code",
   "execution_count": null,
   "id": "d764972b-2d2f-41da-9335-3697fb137024",
   "metadata": {},
   "outputs": [],
   "source": [
    "y_pred_bin = []\n",
    "numPhishesCNN = 0\n",
    "for i in y_pred:\n",
    "    if i > 0.5:\n",
    "        y_pred_bin.append(1)\n",
    "        numPhishesCNN += 1\n",
    "    else:\n",
    "        y_pred_bin.append(0)\n",
    "print(\"Phishes: {}. Benign: {}.\".format(numPhishesCNN, len(messages)-numPhishesCNN))\n",
    "gmailAccuracyCNN = accuracy_score(gmailLabels, y_pred_bin) \n",
    "print(gmailAccuracyCNN)"
   ]
  },
  {
   "cell_type": "code",
   "execution_count": null,
   "id": "1fcc4397-b1b6-4443-a03b-bc7cd7d5923c",
   "metadata": {},
   "outputs": [],
   "source": [
    "model.save(\"../models/cnn_{}l_{}d_{}e.keras\".format(num_layers, embedding_dim, epochs))"
   ]
  },
  {
   "cell_type": "code",
   "execution_count": null,
   "id": "895c3b77-1484-4a20-a249-b49ae6598553",
   "metadata": {},
   "outputs": [],
   "source": [
    "statsFilename = \"../results/stats.csv\"\n",
    "if os.path.isfile(statsFilename):\n",
    "    outData = {\"Num Topics\" : [], \"TF-IDF Count\" : [], \"Num Training\" : [], \"Num Test\" : [], \"RFC Test Accuracy\" : [], \"RFC Test Recall\" : [], \"RFC GMail Accuracy\" : [], \"CNN Dim\" : [], \"CNN Num Layers\" : [], \n",
    "               \"CNN Accuracy\" : [], \"CNN Validation Accuracy\" : [], \"CNN GMail Accuracy\" : [] }\n",
    "    outData[\"Num Topics\"].append(numTopics)\n",
    "    outData[\"TF-IDF Count\"].append(maximumTermCount)\n",
    "    outData[\"Num Training\"].append(len(X_train))\n",
    "    outData[\"Num Test\"].append(len(X_test))\n",
    "    outData[\"RFC Test Accuracy\"].append(rfcAccuracy)\n",
    "    outData[\"RFC Test Recall\"].append(rfcRecall)\n",
    "    outData[\"RFC GMail Accuracy\"].append(gmailAccuracy)\n",
    "    outData[\"CNN Dim\"].append(embedding_dim)\n",
    "    outData[\"CNN Num Layers\"].append(num_layers)\n",
    "    outData[\"CNN Accuracy\"].append(history.history[\"binary_accuracy\"][-1])\n",
    "    outData[\"CNN Validation Accuracy\"].append(history.history[\"val_binary_accuracy\"][-1])\n",
    "    outData[\"CNN GMail Accuracy\"].append(gmailAccuracyCNN)\n",
    "\n",
    "    outDataFrame = pd.DataFrame(outData)\n",
    "    \n",
    "    df = pd.read_csv(statsFilename)\n",
    "    print(df)\n",
    "    #df = pd.concat([df, pd.DataFrame(outData)], ignore_index=True)\n",
    "    outDataFrame[\"ID\"] = len(df)\n",
    "    outDataFrame.set_index(\"ID\")\n",
    "    print(outDataFrame)\n",
    "    #df.loc[len(df)] = outDataFrame\n",
    "    df = pd.concat([df, pd.DataFrame(outData)], ignore_index=True)\n",
    "    df.to_csv(statsFilename, index=False)\n",
    "else:\n",
    "    outData = {\"Num Topics\" : [], \"TF-IDF Count\" : [], \"Num Training\" : [], \"Num Test\" : [], \"RFC Test Accuracy\" : [], \"RFC Test Recall\" : [], \"RFC GMail Accuracy\" : [], \"CNN Dim\" : [], \"CNN Num Layers\" : [], \n",
    "               \"CNN Accuracy\" : [], \"CNN Validation Accuracy\" : [], \"CNN GMail Accuracy\" : [] }\n",
    "    outData[\"Num Topics\"].append(numTopics)\n",
    "    outData[\"TF-IDF Count\"].append(maximumTermCount)\n",
    "    outData[\"Num Training\"].append(len(X_train))\n",
    "    outData[\"Num Test\"].append(len(X_test))\n",
    "    outData[\"RFC Test Accuracy\"].append(rfcAccuracy)\n",
    "    outData[\"RFC Test Recall\"].append(rfcRecall)\n",
    "    outData[\"RFC GMail Accuracy\"].append(gmailAccuracy)\n",
    "    outData[\"CNN Dim\"].append(embedding_dim)\n",
    "    outData[\"CNN Num Layers\"].append(num_layers)\n",
    "    outData[\"CNN Accuracy\"].append(history.history[\"binary_accuracy\"][-1])\n",
    "    outData[\"CNN Validation Accuracy\"].append(history.history[\"val_binary_accuracy\"][-1])\n",
    "    outData[\"CNN GMail Accuracy\"].append(gmailAccuracyCNN)\n",
    "    df = pd.DataFrame(outData)\n",
    "    df.to_csv(statsFilename)"
   ]
  }
 ],
 "metadata": {
  "kernelspec": {
   "display_name": "Python [conda env:.conda-ai]",
   "language": "python",
   "name": "conda-env-.conda-ai-py"
  },
  "language_info": {
   "codemirror_mode": {
    "name": "ipython",
    "version": 3
   },
   "file_extension": ".py",
   "mimetype": "text/x-python",
   "name": "python",
   "nbconvert_exporter": "python",
   "pygments_lexer": "ipython3",
   "version": "3.9.16"
  }
 },
 "nbformat": 4,
 "nbformat_minor": 5
}
